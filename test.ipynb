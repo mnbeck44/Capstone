{
 "cells": [
  {
   "cell_type": "code",
   "execution_count": 1,
   "metadata": {
    "collapsed": false
   },
   "outputs": [],
   "source": [
    "import pandas as pd\n",
    "import numpy as np\n",
    "import matplotlib.pylab as plt\n",
    "%matplotlib inline\n",
    "from sqlalchemy import create_engine\n",
    "import time\n",
    "from datetime import date, timedelta\n",
    "\n",
    "engine = create_engine('postgresql://michaelbecker@localhost:5432/spotdb')"
   ]
  },
  {
   "cell_type": "code",
   "execution_count": 2,
   "metadata": {
    "collapsed": false
   },
   "outputs": [],
   "source": [
    "c = engine.connect()"
   ]
  },
  {
   "cell_type": "code",
   "execution_count": 3,
   "metadata": {
    "collapsed": false
   },
   "outputs": [
    {
     "name": "stdout",
     "output_type": "stream",
     "text": [
      "SELECT date_time, price FROM all_spot WHERE zone='us-west-2a' AND type='c3.2xlarge' AND os='Linux/UNIX (Amazon VPC)';\n"
     ]
    }
   ],
   "source": [
    "sql_str = \"SELECT date_time, price FROM all_spot WHERE zone='us-west-2a' AND type='c3.2xlarge' AND os='Linux/UNIX (Amazon VPC)';\"\n",
    "print sql_str"
   ]
  },
  {
   "cell_type": "code",
   "execution_count": 4,
   "metadata": {
    "collapsed": true
   },
   "outputs": [],
   "source": [
    "df = pd.read_sql(sql_str, c)"
   ]
  },
  {
   "cell_type": "code",
   "execution_count": 5,
   "metadata": {
    "collapsed": false,
    "scrolled": true
   },
   "outputs": [
    {
     "name": "stdout",
     "output_type": "stream",
     "text": [
      "             date_time   price\n",
      "0  2015-07-01 22:46:23  0.0781\n",
      "1  2015-07-01 22:51:08  0.0791\n",
      "2  2015-07-01 22:55:57  0.0683\n",
      "3  2015-07-01 23:00:53  0.0682\n",
      "4  2015-07-01 23:05:53  0.0681\n",
      "date_time     object\n",
      "price        float64\n",
      "dtype: object\n"
     ]
    }
   ],
   "source": [
    "print df.head()\n",
    "print df.dtypes"
   ]
  },
  {
   "cell_type": "code",
   "execution_count": 6,
   "metadata": {
    "collapsed": true
   },
   "outputs": [],
   "source": [
    "#Change 'date_time' to a datetime type\n",
    "df['date_time'] = df['date_time'].apply(lambda x: pd.to_datetime(x))"
   ]
  },
  {
   "cell_type": "code",
   "execution_count": 7,
   "metadata": {
    "collapsed": false
   },
   "outputs": [
    {
     "name": "stdout",
     "output_type": "stream",
     "text": [
      "            date_time   price\n",
      "0 2015-07-01 22:46:23  0.0781\n",
      "1 2015-07-01 22:51:08  0.0791\n",
      "2 2015-07-01 22:55:57  0.0683\n",
      "3 2015-07-01 23:00:53  0.0682\n",
      "4 2015-07-01 23:05:53  0.0681\n",
      "date_time    datetime64[ns]\n",
      "price               float64\n",
      "dtype: object\n",
      "(78705, 2)\n"
     ]
    }
   ],
   "source": [
    "print df.head()\n",
    "print df.dtypes\n",
    "print df.shape"
   ]
  },
  {
   "cell_type": "code",
   "execution_count": 8,
   "metadata": {
    "collapsed": true
   },
   "outputs": [],
   "source": [
    "#Make 'date_time' the index\n",
    "df = df.set_index('date_time')"
   ]
  },
  {
   "cell_type": "code",
   "execution_count": 9,
   "metadata": {
    "collapsed": false
   },
   "outputs": [
    {
     "data": {
      "text/plain": [
       "DatetimeIndex(['2015-07-01 22:46:23', '2015-07-01 22:51:08',\n",
       "               '2015-07-01 22:55:57', '2015-07-01 23:00:53',\n",
       "               '2015-07-01 23:05:53', '2015-07-01 23:10:23',\n",
       "               '2015-07-01 23:15:11', '2015-07-01 23:19:55',\n",
       "               '2015-07-01 23:37:02', '2015-07-01 23:46:51',\n",
       "               ...\n",
       "               '2017-02-11 22:51:59', '2017-02-11 22:52:02',\n",
       "               '2017-02-11 23:02:20', '2017-02-11 23:05:02',\n",
       "               '2017-02-11 23:09:05', '2017-02-11 23:25:14',\n",
       "               '2017-02-11 23:28:02', '2017-02-11 23:35:02',\n",
       "               '2017-02-11 23:41:56', '2017-02-11 23:45:02'],\n",
       "              dtype='datetime64[ns]', name=u'date_time', length=78705, freq=None)"
      ]
     },
     "execution_count": 9,
     "metadata": {},
     "output_type": "execute_result"
    }
   ],
   "source": [
    "df.index"
   ]
  },
  {
   "cell_type": "code",
   "execution_count": 10,
   "metadata": {
    "collapsed": false
   },
   "outputs": [],
   "source": [
    "#Make sure the index is sorted apporpriately\n",
    "df = df.sort_index()"
   ]
  },
  {
   "cell_type": "code",
   "execution_count": 11,
   "metadata": {
    "collapsed": false
   },
   "outputs": [
    {
     "data": {
      "text/plain": [
       "True"
      ]
     },
     "execution_count": 11,
     "metadata": {},
     "output_type": "execute_result"
    }
   ],
   "source": [
    "df.index.is_monotonic_increasing"
   ]
  },
  {
   "cell_type": "code",
   "execution_count": 12,
   "metadata": {
    "collapsed": false
   },
   "outputs": [
    {
     "name": "stdout",
     "output_type": "stream",
     "text": [
      "                     price\n",
      "date_time                 \n",
      "2013-11-14 16:48:58  0.203\n",
      "2013-11-15 16:49:44  0.203\n",
      "2013-11-16 16:51:52  0.203\n",
      "2013-11-17 16:53:50  0.203\n",
      "2013-11-18 16:54:57  0.203\n"
     ]
    }
   ],
   "source": [
    "print df.head()"
   ]
  },
  {
   "cell_type": "code",
   "execution_count": 13,
   "metadata": {
    "collapsed": false,
    "scrolled": true
   },
   "outputs": [],
   "source": [
    "#resample method = performs a frequency conversion of time series data, resampling it to constant intervals\n",
    "#pad method = forward fills the data to the next change\n",
    "#http://pandas.pydata.org/pandas-docs/stable/timeseries.html#offset-aliases\n",
    "\n",
    "prod = df.resample('W').pad()"
   ]
  },
  {
   "cell_type": "code",
   "execution_count": 14,
   "metadata": {
    "collapsed": false
   },
   "outputs": [
    {
     "data": {
      "text/plain": [
       "count    170.000000\n",
       "mean       0.094806\n",
       "std        0.068052\n",
       "min        0.064100\n",
       "25%        0.066425\n",
       "50%        0.069600\n",
       "75%        0.096675\n",
       "max        0.600000\n",
       "Name: price, dtype: float64"
      ]
     },
     "execution_count": 14,
     "metadata": {},
     "output_type": "execute_result"
    }
   ],
   "source": [
    "prod.price.describe()\n"
   ]
  },
  {
   "cell_type": "code",
   "execution_count": 15,
   "metadata": {
    "collapsed": false
   },
   "outputs": [
    {
     "data": {
      "text/plain": [
       "date_time\n",
       "2013-11-17    0.203\n",
       "2013-11-24    0.128\n",
       "2013-12-01    0.203\n",
       "2013-12-08    0.250\n",
       "2013-12-15    0.128\n",
       "Freq: W-SUN, Name: price, dtype: float64"
      ]
     },
     "execution_count": 15,
     "metadata": {},
     "output_type": "execute_result"
    }
   ],
   "source": [
    "prod.price.head()\n"
   ]
  },
  {
   "cell_type": "code",
   "execution_count": 18,
   "metadata": {
    "collapsed": false
   },
   "outputs": [
    {
     "name": "stdout",
     "output_type": "stream",
     "text": [
      "ADF Statistic: -7.145466\n",
      "p-value: 0.000000\n",
      "Critical Values:\n",
      "\t5%: -2.879\n",
      "\t1%: -3.470\n",
      "\t10%: -2.576\n"
     ]
    }
   ],
   "source": [
    "from statsmodels.tsa.stattools import adfuller\n",
    "\n",
    "#The null hypoithesis is that the data is time dependent (non-stationary)\n",
    "#The test stat is signifficantly lower than the critical values, meaning we can reject the null and our data is stationary\n",
    "#No need to to take log of\n",
    "\n",
    "X = prod.price\n",
    "result = adfuller(X, 1) #max lag of 1\n",
    "print('ADF Statistic: %f' % result[0])\n",
    "print('p-value: %f' % result[1])\n",
    "print('Critical Values:')\n",
    "for key, value in result[4].items():\n",
    "    print('\\t%s: %.3f' % (key, value))"
   ]
  },
  {
   "cell_type": "code",
   "execution_count": 58,
   "metadata": {
    "collapsed": false
   },
   "outputs": [
    {
     "name": "stdout",
     "output_type": "stream",
     "text": [
      "[<matplotlib.lines.Line2D object at 0x115c1ba10>]\n",
      "[<matplotlib.lines.Line2D object at 0x115c8a090>]\n",
      "[<matplotlib.lines.Line2D object at 0x115c8a790>]\n",
      "[<matplotlib.lines.Line2D object at 0x115c8add0>]\n",
      "[<matplotlib.lines.Line2D object at 0x115c89410>]\n"
     ]
    },
    {
     "data": {
      "image/png": "[encoded data removed]",
      "text/plain": [
       "<matplotlib.figure.Figure at 0x115cd78d0>"
      ]
     },
     "metadata": {},
     "output_type": "display_data"
    }
   ],
   "source": [
    "###Graph of prices taking the weekly mean... still no visual of non-stationarity\n",
    "\n",
    "\n",
    "print plt.plot(prod.price['2013'])\n",
    "print plt.plot(prod.price['2014'])\n",
    "print plt.plot(prod.price['2015'])\n",
    "print plt.plot(prod.price['2016'])\n",
    "print plt.plot(prod.price['2017'])\n",
    "#There appears to have no trend but large spikes suggesting an MA model would be most effective\n",
    "#Additionally, there appears to be a right skew in the price distribution given the large spikes with flat lines between\n",
    "#Take square root of the prices to negate the spikes (right skew)\n",
    "#Also, there might be some seasonality with spikes after/around 1st quarter of year and more so at mid year\n",
    "#shrink down to find trends"
   ]
  },
  {
   "cell_type": "code",
   "execution_count": 17,
   "metadata": {
    "collapsed": true
   },
   "outputs": [],
   "source": [
    "#Started with 5 minute resampling but there was zero relationships to be seen\n",
    "#The weekly data is the shortest period when we start seeing a measurable relationship\n",
    "#Moving forward with the weekldata for this specific availibility zone\n",
    "\n",
    "data = df.resample('W').pad()\n",
    "train = data.price[:'2016-11-29']\n",
    "test = data.price['2016-11-01':]"
   ]
  },
  {
   "cell_type": "code",
   "execution_count": 18,
   "metadata": {
    "collapsed": false
   },
   "outputs": [
    {
     "name": "stdout",
     "output_type": "stream",
     "text": [
      "(170, 1)\n",
      "(159,)\n",
      "(15,)\n"
     ]
    }
   ],
   "source": [
    "print data.shape\n",
    "print train.shape\n",
    "print test.shape"
   ]
  },
  {
   "cell_type": "code",
   "execution_count": 19,
   "metadata": {
    "collapsed": false
   },
   "outputs": [
    {
     "data": {
      "text/plain": [
       "<matplotlib.axes._subplots.AxesSubplot at 0x111dbc8d0>"
      ]
     },
     "execution_count": 19,
     "metadata": {},
     "output_type": "execute_result"
    },
    {
     "data": {
      "image/png": "[encoded data removed]",
      "text/plain": [
       "<matplotlib.figure.Figure at 0x111daea90>"
      ]
     },
     "metadata": {},
     "output_type": "display_data"
    }
   ],
   "source": [
    "pd.tools.plotting.autocorrelation_plot(train)\n"
   ]
  },
  {
   "cell_type": "code",
   "execution_count": 20,
   "metadata": {
    "collapsed": true
   },
   "outputs": [],
   "source": [
    "from statsmodels.graphics.tsaplots import plot_acf, plot_pacf\n"
   ]
  },
  {
   "cell_type": "code",
   "execution_count": 21,
   "metadata": {
    "collapsed": false
   },
   "outputs": [
    {
     "name": "stdout",
     "output_type": "stream",
     "text": [
      "Figure(432x288)\n"
     ]
    },
    {
     "data": {
      "image/png": "[encoded data removed]",
      "text/plain": [
       "<matplotlib.figure.Figure at 0x115c1b990>"
      ]
     },
     "metadata": {},
     "output_type": "display_data"
    }
   ],
   "source": [
    "print plot_acf(train, lags=8)\n",
    "#Helps determine 'p'"
   ]
  },
  {
   "cell_type": "code",
   "execution_count": 22,
   "metadata": {
    "collapsed": false
   },
   "outputs": [
    {
     "name": "stdout",
     "output_type": "stream",
     "text": [
      "Figure(432x288)\n"
     ]
    },
    {
     "data": {
      "image/png": "[encoded data removed]",
      "text/plain": [
       "<matplotlib.figure.Figure at 0x111558f50>"
      ]
     },
     "metadata": {},
     "output_type": "display_data"
    }
   ],
   "source": [
    "print plot_pacf(train, lags=8)\n",
    "#helps determine 'q'"
   ]
  },
  {
   "cell_type": "code",
   "execution_count": 23,
   "metadata": {
    "collapsed": false
   },
   "outputs": [],
   "source": [
    "from statsmodels.tsa.arima_model import ARIMA\n",
    "\n",
    "model = ARIMA(train, (3, 0, 0)).fit()\n",
    "#us_west_2a order = 4,0,2 "
   ]
  },
  {
   "cell_type": "code",
   "execution_count": 24,
   "metadata": {
    "collapsed": false
   },
   "outputs": [
    {
     "name": "stdout",
     "output_type": "stream",
     "text": [
      "                              ARMA Model Results                              \n",
      "==============================================================================\n",
      "Dep. Variable:                  price   No. Observations:                  159\n",
      "Model:                     ARMA(3, 0)   Log Likelihood                 229.415\n",
      "Method:                       css-mle   S.D. of innovations              0.057\n",
      "Date:                Wed, 03 May 2017   AIC                           -448.831\n",
      "Time:                        22:44:52   BIC                           -433.486\n",
      "Sample:                    11-17-2013   HQIC                          -442.600\n",
      "                         - 11-27-2016                                         \n",
      "===============================================================================\n",
      "                  coef    std err          z      P>|z|      [95.0% Conf. Int.]\n",
      "-------------------------------------------------------------------------------\n",
      "const           0.0976      0.012      7.991      0.000         0.074     0.122\n",
      "ar.L1.price     0.5910      0.078      7.602      0.000         0.439     0.743\n",
      "ar.L2.price    -0.1821      0.090     -2.031      0.044        -0.358    -0.006\n",
      "ar.L3.price     0.2249      0.078      2.875      0.005         0.072     0.378\n",
      "                                    Roots                                    \n",
      "=============================================================================\n",
      "                 Real           Imaginary           Modulus         Frequency\n",
      "-----------------------------------------------------------------------------\n",
      "AR.1            1.3353           -0.0000j            1.3353           -0.0000\n",
      "AR.2           -0.2628           -1.8057j            1.8247           -0.2730\n",
      "AR.3           -0.2628           +1.8057j            1.8247            0.2730\n",
      "-----------------------------------------------------------------------------\n"
     ]
    }
   ],
   "source": [
    "print model.summary()"
   ]
  },
  {
   "cell_type": "code",
   "execution_count": 25,
   "metadata": {
    "collapsed": false
   },
   "outputs": [
    {
     "name": "stdout",
     "output_type": "stream",
     "text": [
      "Figure(432x288)\n"
     ]
    },
    {
     "name": "stderr",
     "output_type": "stream",
     "text": [
      "/Users/michaelbecker/anaconda2/lib/python2.7/site-packages/statsmodels/tsa/arima_model.py:1724: FutureWarning: TimeSeries is deprecated. Please use Series\n",
      "  forecast = TimeSeries(forecast, index=self.data.predict_dates)\n"
     ]
    },
    {
     "data": {
      "image/png": "[encoded data removed]",
      "text/plain": [
       "<matplotlib.figure.Figure at 0x115d8afd0>"
      ]
     },
     "metadata": {},
     "output_type": "display_data"
    }
   ],
   "source": [
    "\n",
    "figure = model.plot_predict(1, 170)\n",
    "print figure"
   ]
  },
  {
   "cell_type": "code",
   "execution_count": 26,
   "metadata": {
    "collapsed": false
   },
   "outputs": [
    {
     "name": "stdout",
     "output_type": "stream",
     "text": [
      "Figure(432x288)\n",
      "Figure(432x288)\n"
     ]
    },
    {
     "data": {
      "image/png": "[encoded data removed]",
      "text/plain": [
       "<matplotlib.figure.Figure at 0x116702f10>"
      ]
     },
     "metadata": {},
     "output_type": "display_data"
    },
    {
     "data": {
      "image/png": "[encoded data removed]",
      "text/plain": [
       "<matplotlib.figure.Figure at 0x1117441d0>"
      ]
     },
     "metadata": {},
     "output_type": "display_data"
    }
   ],
   "source": [
    "\n",
    "print plot_acf(model.resid, lags=28)\n",
    "#Decays to zero and hugs the line, suggesting residuals are not correlated\n",
    "print plot_pacf(model.resid, lags=28)"
   ]
  },
  {
   "cell_type": "code",
   "execution_count": 27,
   "metadata": {
    "collapsed": false
   },
   "outputs": [
    {
     "data": {
      "image/png": "[encoded data removed]",
      "text/plain": [
       "<matplotlib.figure.Figure at 0x116d87150>"
      ]
     },
     "metadata": {},
     "output_type": "display_data"
    },
    {
     "data": {
      "image/png": "[encoded data removed]",
      "text/plain": [
       "<matplotlib.figure.Figure at 0x116f9bfd0>"
      ]
     },
     "metadata": {},
     "output_type": "display_data"
    },
    {
     "name": "stdout",
     "output_type": "stream",
     "text": [
      "count    159.000000\n",
      "mean      -0.000635\n",
      "std        0.057483\n",
      "min       -0.192987\n",
      "25%       -0.012237\n",
      "50%       -0.011294\n",
      "75%       -0.000443\n",
      "max        0.482175\n",
      "dtype: float64\n"
     ]
    }
   ],
   "source": [
    "# plot residual errors\n",
    "#'kde' = density plot\n",
    "\n",
    "#No trend in residual errors over time\n",
    "#Errors look centered at zero\n",
    "#Summary stats do indeed show they are centered around the mean\n",
    "residuals = model.resid\n",
    "residuals.plot()\n",
    "plt.show()\n",
    "residuals.plot(kind='kde')\n",
    "plt.show()\n",
    "print(residuals.describe())"
   ]
  },
  {
   "cell_type": "code",
   "execution_count": 231,
   "metadata": {
    "collapsed": false
   },
   "outputs": [],
   "source": [
    "# forecast = model.forecast(steps=7)"
   ]
  },
  {
   "cell_type": "code",
   "execution_count": 233,
   "metadata": {
    "collapsed": false
   },
   "outputs": [
    {
     "name": "stdout",
     "output_type": "stream",
     "text": [
      "[ 0.10716565  0.10701309  0.10646618  0.1065319   0.10614924  0.10632059\n",
      "  0.10600893]\n"
     ]
    }
   ],
   "source": [
    "# print forecast[0]"
   ]
  },
  {
   "cell_type": "code",
   "execution_count": 41,
   "metadata": {
    "collapsed": true
   },
   "outputs": [],
   "source": [
    "# A rolling forecast is required given the dependence on observations in prior time steps for differencing and the \n",
    "# AR model. A crude way to perform this rolling forecast is to re-create the ARIMA model after each new observation is \n",
    "# received.\n",
    "\n"
   ]
  },
  {
   "cell_type": "code",
   "execution_count": 28,
   "metadata": {
    "collapsed": true
   },
   "outputs": [],
   "source": [
    "from sklearn.metrics import mean_squared_error\n",
    "from sklearn.metrics import mean_absolute_error"
   ]
  },
  {
   "cell_type": "code",
   "execution_count": 29,
   "metadata": {
    "collapsed": false
   },
   "outputs": [
    {
     "name": "stdout",
     "output_type": "stream",
     "text": [
      "date_time\n",
      "2016-11-06    0.1232\n",
      "2016-11-13    0.1685\n",
      "2016-11-20    0.1685\n",
      "2016-11-27    0.1685\n",
      "2016-12-04    0.1685\n",
      "2016-12-11    0.0780\n",
      "2016-12-18    0.0789\n",
      "2016-12-25    0.0789\n",
      "2017-01-01    0.0789\n",
      "2017-01-08    0.0928\n",
      "2017-01-15    0.0873\n",
      "2017-01-22    0.0889\n",
      "2017-01-29    0.0889\n",
      "2017-02-05    0.0888\n",
      "2017-02-12    0.0871\n",
      "Freq: W-SUN, Name: price, dtype: float64\n"
     ]
    }
   ],
   "source": [
    "print test"
   ]
  },
  {
   "cell_type": "code",
   "execution_count": 33,
   "metadata": {
    "collapsed": false,
    "scrolled": true
   },
   "outputs": [
    {
     "name": "stdout",
     "output_type": "stream",
     "text": [
      "predicted=0.142552, expected=0.123200\n",
      "predicted=0.115491, expected=0.168500\n",
      "predicted=0.151091, expected=0.168500\n",
      "predicted=0.132902, expected=0.168500\n",
      "predicted=0.143782, expected=0.168500\n",
      "predicted=0.144202, expected=0.078000\n",
      "predicted=0.089672, expected=0.078900\n",
      "predicted=0.106281, expected=0.078900\n",
      "predicted=0.085599, expected=0.078900\n",
      "predicted=0.085754, expected=0.092800\n",
      "predicted=0.094022, expected=0.087300\n",
      "predicted=0.088264, expected=0.088900\n",
      "predicted=0.093264, expected=0.088900\n",
      "predicted=0.091739, expected=0.088800\n",
      "predicted=0.092017, expected=0.087100\n",
      "Test MSE: 0.001\n",
      "Test RMSE: 0.027\n",
      "Test MAE: 0.019\n"
     ]
    }
   ],
   "source": [
    "history = [x for x in train] #takes train and builds a model, then appends the 'obs' to roll history onwards\n",
    "predictions = list()\n",
    "for t in range(len(test)):\n",
    "    model = ARIMA(history, order=(3,0,0)) #model is called with params of above\n",
    "    model_fit = model.fit(disp=0) #model is fit just as above\n",
    "    output = model_fit.forecast()\n",
    "    yhat = output[0]\n",
    "    predictions.append(yhat)\n",
    "    obs = test[t]\n",
    "    history.append(obs)\n",
    "    print('predicted=%f, expected=%f' % (yhat, obs))\n",
    "error = mean_squared_error(test, predictions)\n",
    "error1 = mean_absolute_error(test, predictions)\n",
    "print('Test MSE: %.3f' % error)\n",
    "print('Test RMSE: %.3f' % error**(0.5))\n",
    "print('Test MAE: %.3f' % error1)\n",
    "# plot\n"
   ]
  },
  {
   "cell_type": "code",
   "execution_count": 83,
   "metadata": {
    "collapsed": false
   },
   "outputs": [
    {
     "data": {
      "image/png": "[encoded data removed]",
      "text/plain": [
       "<matplotlib.figure.Figure at 0x11911be90>"
      ]
     },
     "metadata": {},
     "output_type": "display_data"
    }
   ],
   "source": [
    "plt.figure()\n",
    "plt.plot(list(test))\n",
    "plt.plot(predictions, color='red')\n",
    "plt.show()"
   ]
  },
  {
   "cell_type": "code",
   "execution_count": 186,
   "metadata": {
    "collapsed": true
   },
   "outputs": [],
   "source": [
    "# train = pd.concat([train, test])"
   ]
  },
  {
   "cell_type": "code",
   "execution_count": 49,
   "metadata": {
    "collapsed": false,
    "scrolled": true
   },
   "outputs": [],
   "source": [
    "# predict = model.predict(start=-5, end=test-1, dynamic=True)"
   ]
  },
  {
   "cell_type": "code",
   "execution_count": 246,
   "metadata": {
    "collapsed": false
   },
   "outputs": [
    {
     "name": "stdout",
     "output_type": "stream",
     "text": [
      "2016-10-30    0.088068\n",
      "2016-11-06    0.087523\n",
      "2016-11-13    0.128637\n",
      "2016-11-20    0.113306\n",
      "2016-11-27    0.107515\n",
      "2016-12-04    0.107166\n",
      "2016-12-11    0.107013\n",
      "2016-12-18    0.106466\n",
      "Freq: W-SUN, dtype: float64\n"
     ]
    }
   ],
   "source": [
    "print predict"
   ]
  },
  {
   "cell_type": "code",
   "execution_count": 247,
   "metadata": {
    "collapsed": false
   },
   "outputs": [
    {
     "data": {
      "text/plain": [
       "date_time\n",
       "2016-10-30    0.0757\n",
       "2016-11-06    0.1597\n",
       "2016-11-13    0.1082\n",
       "2016-11-20    0.1082\n",
       "2016-11-27    0.1082\n",
       "Freq: W-SUN, Name: price, dtype: float64"
      ]
     },
     "execution_count": 247,
     "metadata": {},
     "output_type": "execute_result"
    }
   ],
   "source": [
    "train[-5:]"
   ]
  },
  {
   "cell_type": "code",
   "execution_count": 248,
   "metadata": {
    "collapsed": false
   },
   "outputs": [
    {
     "data": {
      "text/plain": [
       "date_time\n",
       "2016-12-04    0.1082\n",
       "2016-12-11    0.0732\n",
       "2016-12-18    0.0762\n",
       "2016-12-25    0.0762\n",
       "2017-01-01    0.0762\n",
       "2017-01-08    0.0914\n",
       "2017-01-15    0.0861\n",
       "Freq: W-SUN, Name: price, dtype: float64"
      ]
     },
     "execution_count": 248,
     "metadata": {},
     "output_type": "execute_result"
    }
   ],
   "source": [
    "test[0:7]"
   ]
  },
  {
   "cell_type": "code",
   "execution_count": 244,
   "metadata": {
    "collapsed": false
   },
   "outputs": [
    {
     "data": {
      "text/plain": [
       "<matplotlib.axes._subplots.AxesSubplot at 0x122d3d2d0>"
      ]
     },
     "execution_count": 244,
     "metadata": {},
     "output_type": "execute_result"
    },
    {
     "data": {
      "image/png": "[encoded data removed]",
      "text/plain": [
       "<matplotlib.figure.Figure at 0x11f2f7290>"
      ]
     },
     "metadata": {},
     "output_type": "display_data"
    }
   ],
   "source": [
    "predict.plot()\n",
    "test[0:7].plot()"
   ]
  },
  {
   "cell_type": "code",
   "execution_count": null,
   "metadata": {
    "collapsed": false
   },
   "outputs": [],
   "source": []
  },
  {
   "cell_type": "code",
   "execution_count": null,
   "metadata": {
    "collapsed": true
   },
   "outputs": [],
   "source": []
  }
 ],
 "metadata": {
  "kernelspec": {
   "display_name": "Python 2",
   "language": "python",
   "name": "python2"
  },
  "language_info": {
   "codemirror_mode": {
    "name": "ipython",
    "version": 2
   },
   "file_extension": ".py",
   "mimetype": "text/x-python",
   "name": "python",
   "nbconvert_exporter": "python",
   "pygments_lexer": "ipython2",
   "version": "2.7.13"
  }
 },
 "nbformat": 4,
 "nbformat_minor": 2
}
