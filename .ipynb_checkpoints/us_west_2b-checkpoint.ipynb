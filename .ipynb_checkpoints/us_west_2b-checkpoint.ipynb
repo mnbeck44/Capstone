{
 "cells": [
  {
   "cell_type": "code",
   "execution_count": 1,
   "metadata": {
    "collapsed": false
   },
   "outputs": [],
   "source": [
    "import pandas as pd\n",
    "import numpy as np\n",
    "import matplotlib.pylab as plt\n",
    "%matplotlib inline\n",
    "# from matplotlib.pylab import rcParams\n",
    "# rcParams['figure.figsize'] = 15, 6\n",
    "from sqlalchemy import create_engine\n",
    "import time\n",
    "from datetime import date, timedelta\n",
    "\n",
    "engine = create_engine('postgresql://michaelbecker@localhost:5432/spotdb')"
   ]
  },
  {
   "cell_type": "code",
   "execution_count": 2,
   "metadata": {
    "collapsed": false
   },
   "outputs": [],
   "source": [
    "c = engine.connect()"
   ]
  },
  {
   "cell_type": "code",
   "execution_count": 3,
   "metadata": {
    "collapsed": false
   },
   "outputs": [
    {
     "data": {
      "text/html": [
       "<div>\n",
       "<table border=\"1\" class=\"dataframe\">\n",
       "  <thead>\n",
       "    <tr style=\"text-align: right;\">\n",
       "      <th></th>\n",
       "      <th>date</th>\n",
       "      <th>time</th>\n",
       "      <th>zone</th>\n",
       "      <th>type</th>\n",
       "      <th>os</th>\n",
       "      <th>price</th>\n",
       "      <th>date_time</th>\n",
       "    </tr>\n",
       "  </thead>\n",
       "  <tbody>\n",
       "    <tr>\n",
       "      <th>0</th>\n",
       "      <td>2015-07-01</td>\n",
       "      <td>22:12:56</td>\n",
       "      <td>us-west-2b</td>\n",
       "      <td>c3.2xlarge</td>\n",
       "      <td>Linux/UNIX (Amazon VPC)</td>\n",
       "      <td>0.0718</td>\n",
       "      <td>2015-07-01 22:12:56</td>\n",
       "    </tr>\n",
       "    <tr>\n",
       "      <th>1</th>\n",
       "      <td>2015-07-01</td>\n",
       "      <td>22:22:43</td>\n",
       "      <td>us-west-2b</td>\n",
       "      <td>c3.2xlarge</td>\n",
       "      <td>Linux/UNIX (Amazon VPC)</td>\n",
       "      <td>0.0717</td>\n",
       "      <td>2015-07-01 22:22:43</td>\n",
       "    </tr>\n",
       "    <tr>\n",
       "      <th>2</th>\n",
       "      <td>2015-07-01</td>\n",
       "      <td>22:27:34</td>\n",
       "      <td>us-west-2b</td>\n",
       "      <td>c3.2xlarge</td>\n",
       "      <td>Linux/UNIX (Amazon VPC)</td>\n",
       "      <td>0.0715</td>\n",
       "      <td>2015-07-01 22:27:34</td>\n",
       "    </tr>\n",
       "    <tr>\n",
       "      <th>3</th>\n",
       "      <td>2015-07-01</td>\n",
       "      <td>22:34:37</td>\n",
       "      <td>us-west-2b</td>\n",
       "      <td>c3.2xlarge</td>\n",
       "      <td>Linux/UNIX (Amazon VPC)</td>\n",
       "      <td>0.0720</td>\n",
       "      <td>2015-07-01 22:34:37</td>\n",
       "    </tr>\n",
       "    <tr>\n",
       "      <th>4</th>\n",
       "      <td>2015-07-01</td>\n",
       "      <td>22:41:42</td>\n",
       "      <td>us-west-2b</td>\n",
       "      <td>c3.2xlarge</td>\n",
       "      <td>Linux/UNIX (Amazon VPC)</td>\n",
       "      <td>0.0721</td>\n",
       "      <td>2015-07-01 22:41:42</td>\n",
       "    </tr>\n",
       "  </tbody>\n",
       "</table>\n",
       "</div>"
      ],
      "text/plain": [
       "         date      time        zone        type                       os  \\\n",
       "0  2015-07-01  22:12:56  us-west-2b  c3.2xlarge  Linux/UNIX (Amazon VPC)   \n",
       "1  2015-07-01  22:22:43  us-west-2b  c3.2xlarge  Linux/UNIX (Amazon VPC)   \n",
       "2  2015-07-01  22:27:34  us-west-2b  c3.2xlarge  Linux/UNIX (Amazon VPC)   \n",
       "3  2015-07-01  22:34:37  us-west-2b  c3.2xlarge  Linux/UNIX (Amazon VPC)   \n",
       "4  2015-07-01  22:41:42  us-west-2b  c3.2xlarge  Linux/UNIX (Amazon VPC)   \n",
       "\n",
       "    price            date_time  \n",
       "0  0.0718  2015-07-01 22:12:56  \n",
       "1  0.0717  2015-07-01 22:22:43  \n",
       "2  0.0715  2015-07-01 22:27:34  \n",
       "3  0.0720  2015-07-01 22:34:37  \n",
       "4  0.0721  2015-07-01 22:41:42  "
      ]
     },
     "execution_count": 3,
     "metadata": {},
     "output_type": "execute_result"
    }
   ],
   "source": [
    "pd.read_sql('select * from us_west_2b limit 5', c)"
   ]
  },
  {
   "cell_type": "code",
   "execution_count": 4,
   "metadata": {
    "collapsed": true
   },
   "outputs": [],
   "source": [
    "df = pd.read_sql('SELECT date_time, price FROM us_west_2b;', c)"
   ]
  },
  {
   "cell_type": "code",
   "execution_count": 5,
   "metadata": {
    "collapsed": false
   },
   "outputs": [
    {
     "name": "stdout",
     "output_type": "stream",
     "text": [
      "             date_time   price\n",
      "0  2015-07-01 22:12:56  0.0718\n",
      "1  2015-07-01 22:22:43  0.0717\n",
      "2  2015-07-01 22:27:34  0.0715\n",
      "3  2015-07-01 22:34:37  0.0720\n",
      "4  2015-07-01 22:41:42  0.0721\n",
      "date_time     object\n",
      "price        float64\n",
      "dtype: object\n"
     ]
    }
   ],
   "source": [
    "print df.head()\n",
    "print df.dtypes"
   ]
  },
  {
   "cell_type": "code",
   "execution_count": 6,
   "metadata": {
    "collapsed": true
   },
   "outputs": [],
   "source": [
    "#Change 'date_time' to a datetime type\n",
    "df['date_time'] = df['date_time'].apply(lambda x: pd.to_datetime(x))"
   ]
  },
  {
   "cell_type": "code",
   "execution_count": 7,
   "metadata": {
    "collapsed": false
   },
   "outputs": [
    {
     "name": "stdout",
     "output_type": "stream",
     "text": [
      "            date_time   price\n",
      "0 2015-07-01 22:12:56  0.0718\n",
      "1 2015-07-01 22:22:43  0.0717\n",
      "2 2015-07-01 22:27:34  0.0715\n",
      "3 2015-07-01 22:34:37  0.0720\n",
      "4 2015-07-01 22:41:42  0.0721\n",
      "date_time    datetime64[ns]\n",
      "price               float64\n",
      "dtype: object\n"
     ]
    }
   ],
   "source": [
    "print df.head()\n",
    "print df.dtypes"
   ]
  },
  {
   "cell_type": "code",
   "execution_count": 8,
   "metadata": {
    "collapsed": true
   },
   "outputs": [],
   "source": [
    "#Make 'date_time' the index\n",
    "df = df.set_index('date_time')"
   ]
  },
  {
   "cell_type": "code",
   "execution_count": 9,
   "metadata": {
    "collapsed": false
   },
   "outputs": [
    {
     "data": {
      "text/plain": [
       "DatetimeIndex(['2015-07-01 22:12:56', '2015-07-01 22:22:43',\n",
       "               '2015-07-01 22:27:34', '2015-07-01 22:34:37',\n",
       "               '2015-07-01 22:41:42', '2015-07-01 22:46:23',\n",
       "               '2015-07-01 22:51:08', '2015-07-01 22:55:57',\n",
       "               '2015-07-01 23:00:53', '2015-07-01 23:05:53',\n",
       "               ...\n",
       "               '2017-02-11 21:52:02', '2017-02-11 22:00:02',\n",
       "               '2017-02-11 22:06:02', '2017-02-11 22:13:02',\n",
       "               '2017-02-11 22:13:32', '2017-02-11 22:15:02',\n",
       "               '2017-02-11 22:18:53', '2017-02-11 22:22:08',\n",
       "               '2017-02-11 22:24:05', '2017-02-11 22:25:02'],\n",
       "              dtype='datetime64[ns]', name=u'date_time', length=78841, freq=None)"
      ]
     },
     "execution_count": 9,
     "metadata": {},
     "output_type": "execute_result"
    }
   ],
   "source": [
    "df.index"
   ]
  },
  {
   "cell_type": "code",
   "execution_count": 10,
   "metadata": {
    "collapsed": false
   },
   "outputs": [],
   "source": [
    "#Make sure the index is sorted apporpriately\n",
    "df = df.sort_index()"
   ]
  },
  {
   "cell_type": "code",
   "execution_count": 11,
   "metadata": {
    "collapsed": false
   },
   "outputs": [
    {
     "data": {
      "text/plain": [
       "True"
      ]
     },
     "execution_count": 11,
     "metadata": {},
     "output_type": "execute_result"
    }
   ],
   "source": [
    "df.index.is_monotonic_increasing"
   ]
  },
  {
   "cell_type": "code",
   "execution_count": 12,
   "metadata": {
    "collapsed": false
   },
   "outputs": [
    {
     "name": "stdout",
     "output_type": "stream",
     "text": [
      "                     price\n",
      "date_time                 \n",
      "2013-11-14 16:48:58  0.128\n",
      "2013-11-14 17:53:48  0.203\n",
      "2013-11-15 00:43:19  0.128\n",
      "2013-11-15 19:40:45  0.203\n",
      "2013-11-15 20:59:02  0.128\n"
     ]
    }
   ],
   "source": [
    "print df.head()"
   ]
  },
  {
   "cell_type": "code",
   "execution_count": 13,
   "metadata": {
    "collapsed": true
   },
   "outputs": [],
   "source": [
    "#Create new columns: replicate index in one, shift the times in another, take the difference of the 2 in the third\n",
    "#All in an effort to create constant time by getting a better understanding of time between updates\n",
    "#At first look, it seems earlier data is sporadic and has large gaps between updates, may have to drop\n",
    "df['dt'] = df.index"
   ]
  },
  {
   "cell_type": "code",
   "execution_count": 14,
   "metadata": {
    "collapsed": true
   },
   "outputs": [],
   "source": [
    "#Grabs the 'dt' column and advances each value up so that index[0] in 'dt' is index[1] in 'dt_shift', so on and so forth\n",
    "df['dt_shift'] = df['dt'].shift(1)"
   ]
  },
  {
   "cell_type": "code",
   "execution_count": 15,
   "metadata": {
    "collapsed": true
   },
   "outputs": [],
   "source": [
    "#Take the difference between 'dt' and 'dt_shift'\n",
    "df['time_diff'] = df['dt'] - df['dt_shift']"
   ]
  },
  {
   "cell_type": "code",
   "execution_count": 16,
   "metadata": {
    "collapsed": false
   },
   "outputs": [
    {
     "name": "stdout",
     "output_type": "stream",
     "text": [
      "                     price                  dt            dt_shift  time_diff\n",
      "date_time                                                                    \n",
      "2013-11-14 16:48:58  0.128 2013-11-14 16:48:58                 NaT        NaT\n",
      "2013-11-14 17:53:48  0.203 2013-11-14 17:53:48 2013-11-14 16:48:58   01:04:50\n",
      "2013-11-15 00:43:19  0.128 2013-11-15 00:43:19 2013-11-14 17:53:48   06:49:31\n",
      "2013-11-15 19:40:45  0.203 2013-11-15 19:40:45 2013-11-15 00:43:19   18:57:26\n",
      "2013-11-15 20:59:02  0.128 2013-11-15 20:59:02 2013-11-15 19:40:45   01:18:17\n",
      "price                float64\n",
      "dt            datetime64[ns]\n",
      "dt_shift      datetime64[ns]\n",
      "time_diff    timedelta64[ns]\n",
      "dtype: object\n"
     ]
    }
   ],
   "source": [
    "print df.head()\n",
    "print df.dtypes"
   ]
  },
  {
   "cell_type": "code",
   "execution_count": 17,
   "metadata": {
    "collapsed": false
   },
   "outputs": [
    {
     "data": {
      "text/plain": [
       "count                     78840\n",
       "mean     0 days 00:21:38.885895\n",
       "std      0 days 16:35:18.902522\n",
       "min             0 days 00:00:02\n",
       "25%             0 days 00:00:47\n",
       "50%             0 days 00:03:10\n",
       "75%             0 days 00:05:04\n",
       "max           148 days 12:32:40\n",
       "Name: time_diff, dtype: object"
      ]
     },
     "execution_count": 17,
     "metadata": {},
     "output_type": "execute_result"
    }
   ],
   "source": [
    "df.time_diff.describe()"
   ]
  },
  {
   "cell_type": "code",
   "execution_count": 79,
   "metadata": {
    "collapsed": false,
    "scrolled": true
   },
   "outputs": [
    {
     "data": {
      "text/html": [
       "<div>\n",
       "<table border=\"1\" class=\"dataframe\">\n",
       "  <thead>\n",
       "    <tr style=\"text-align: right;\">\n",
       "      <th></th>\n",
       "      <th>price</th>\n",
       "      <th>dt</th>\n",
       "      <th>dt_shift</th>\n",
       "      <th>time_diff</th>\n",
       "    </tr>\n",
       "    <tr>\n",
       "      <th>date_time</th>\n",
       "      <th></th>\n",
       "      <th></th>\n",
       "      <th></th>\n",
       "      <th></th>\n",
       "    </tr>\n",
       "  </thead>\n",
       "  <tbody>\n",
       "    <tr>\n",
       "      <th>2014-06-25 15:09:49</th>\n",
       "      <td>0.0685</td>\n",
       "      <td>2014-06-25 15:09:49</td>\n",
       "      <td>2014-06-06 01:02:20</td>\n",
       "      <td>19 days 14:07:29</td>\n",
       "    </tr>\n",
       "    <tr>\n",
       "      <th>2014-10-17 13:00:58</th>\n",
       "      <td>0.0689</td>\n",
       "      <td>2014-10-17 13:00:58</td>\n",
       "      <td>2014-07-29 09:52:10</td>\n",
       "      <td>80 days 03:08:48</td>\n",
       "    </tr>\n",
       "    <tr>\n",
       "      <th>2014-11-11 18:39:39</th>\n",
       "      <td>0.0689</td>\n",
       "      <td>2014-11-11 18:39:39</td>\n",
       "      <td>2014-10-27 18:48:50</td>\n",
       "      <td>14 days 23:50:49</td>\n",
       "    </tr>\n",
       "    <tr>\n",
       "      <th>2014-12-13 13:26:32</th>\n",
       "      <td>0.0687</td>\n",
       "      <td>2014-12-13 13:26:32</td>\n",
       "      <td>2014-11-23 07:12:07</td>\n",
       "      <td>20 days 06:14:25</td>\n",
       "    </tr>\n",
       "    <tr>\n",
       "      <th>2015-01-19 12:00:02</th>\n",
       "      <td>0.0751</td>\n",
       "      <td>2015-01-19 12:00:02</td>\n",
       "      <td>2014-12-21 06:45:49</td>\n",
       "      <td>29 days 05:14:13</td>\n",
       "    </tr>\n",
       "    <tr>\n",
       "      <th>2015-04-15 20:18:49</th>\n",
       "      <td>0.4035</td>\n",
       "      <td>2015-04-15 20:18:49</td>\n",
       "      <td>2015-03-29 05:05:00</td>\n",
       "      <td>17 days 15:13:49</td>\n",
       "    </tr>\n",
       "    <tr>\n",
       "      <th>2015-07-01 21:33:51</th>\n",
       "      <td>0.0716</td>\n",
       "      <td>2015-07-01 21:33:51</td>\n",
       "      <td>2015-06-21 05:52:36</td>\n",
       "      <td>10 days 15:41:15</td>\n",
       "    </tr>\n",
       "    <tr>\n",
       "      <th>2015-10-28 07:50:24</th>\n",
       "      <td>0.0786</td>\n",
       "      <td>2015-10-28 07:50:24</td>\n",
       "      <td>2015-08-30 09:07:59</td>\n",
       "      <td>58 days 22:42:25</td>\n",
       "    </tr>\n",
       "    <tr>\n",
       "      <th>2016-04-04 18:54:38</th>\n",
       "      <td>0.1287</td>\n",
       "      <td>2016-04-04 18:54:38</td>\n",
       "      <td>2015-11-08 06:21:58</td>\n",
       "      <td>148 days 12:32:40</td>\n",
       "    </tr>\n",
       "    <tr>\n",
       "      <th>2016-05-28 15:22:14</th>\n",
       "      <td>0.0855</td>\n",
       "      <td>2016-05-28 15:22:14</td>\n",
       "      <td>2016-05-15 05:49:46</td>\n",
       "      <td>13 days 09:32:28</td>\n",
       "    </tr>\n",
       "    <tr>\n",
       "      <th>2016-10-06 19:14:42</th>\n",
       "      <td>0.1612</td>\n",
       "      <td>2016-10-06 19:14:42</td>\n",
       "      <td>2016-09-16 14:17:34</td>\n",
       "      <td>20 days 04:57:08</td>\n",
       "    </tr>\n",
       "    <tr>\n",
       "      <th>2016-11-01 05:46:44</th>\n",
       "      <td>0.0872</td>\n",
       "      <td>2016-11-01 05:46:44</td>\n",
       "      <td>2016-10-16 23:38:16</td>\n",
       "      <td>15 days 06:08:28</td>\n",
       "    </tr>\n",
       "    <tr>\n",
       "      <th>2016-12-06 01:38:12</th>\n",
       "      <td>0.0814</td>\n",
       "      <td>2016-12-06 01:38:12</td>\n",
       "      <td>2016-11-09 17:21:23</td>\n",
       "      <td>26 days 08:16:49</td>\n",
       "    </tr>\n",
       "    <tr>\n",
       "      <th>2017-01-04 19:50:09</th>\n",
       "      <td>0.0897</td>\n",
       "      <td>2017-01-04 19:50:09</td>\n",
       "      <td>2016-12-11 07:40:26</td>\n",
       "      <td>24 days 12:09:43</td>\n",
       "    </tr>\n",
       "    <tr>\n",
       "      <th>2017-02-03 11:33:01</th>\n",
       "      <td>0.0881</td>\n",
       "      <td>2017-02-03 11:33:01</td>\n",
       "      <td>2017-01-21 17:42:03</td>\n",
       "      <td>12 days 17:50:58</td>\n",
       "    </tr>\n",
       "  </tbody>\n",
       "</table>\n",
       "</div>"
      ],
      "text/plain": [
       "                      price                  dt            dt_shift  \\\n",
       "date_time                                                             \n",
       "2014-06-25 15:09:49  0.0685 2014-06-25 15:09:49 2014-06-06 01:02:20   \n",
       "2014-10-17 13:00:58  0.0689 2014-10-17 13:00:58 2014-07-29 09:52:10   \n",
       "2014-11-11 18:39:39  0.0689 2014-11-11 18:39:39 2014-10-27 18:48:50   \n",
       "2014-12-13 13:26:32  0.0687 2014-12-13 13:26:32 2014-11-23 07:12:07   \n",
       "2015-01-19 12:00:02  0.0751 2015-01-19 12:00:02 2014-12-21 06:45:49   \n",
       "2015-04-15 20:18:49  0.4035 2015-04-15 20:18:49 2015-03-29 05:05:00   \n",
       "2015-07-01 21:33:51  0.0716 2015-07-01 21:33:51 2015-06-21 05:52:36   \n",
       "2015-10-28 07:50:24  0.0786 2015-10-28 07:50:24 2015-08-30 09:07:59   \n",
       "2016-04-04 18:54:38  0.1287 2016-04-04 18:54:38 2015-11-08 06:21:58   \n",
       "2016-05-28 15:22:14  0.0855 2016-05-28 15:22:14 2016-05-15 05:49:46   \n",
       "2016-10-06 19:14:42  0.1612 2016-10-06 19:14:42 2016-09-16 14:17:34   \n",
       "2016-11-01 05:46:44  0.0872 2016-11-01 05:46:44 2016-10-16 23:38:16   \n",
       "2016-12-06 01:38:12  0.0814 2016-12-06 01:38:12 2016-11-09 17:21:23   \n",
       "2017-01-04 19:50:09  0.0897 2017-01-04 19:50:09 2016-12-11 07:40:26   \n",
       "2017-02-03 11:33:01  0.0881 2017-02-03 11:33:01 2017-01-21 17:42:03   \n",
       "\n",
       "                            time_diff  \n",
       "date_time                              \n",
       "2014-06-25 15:09:49  19 days 14:07:29  \n",
       "2014-10-17 13:00:58  80 days 03:08:48  \n",
       "2014-11-11 18:39:39  14 days 23:50:49  \n",
       "2014-12-13 13:26:32  20 days 06:14:25  \n",
       "2015-01-19 12:00:02  29 days 05:14:13  \n",
       "2015-04-15 20:18:49  17 days 15:13:49  \n",
       "2015-07-01 21:33:51  10 days 15:41:15  \n",
       "2015-10-28 07:50:24  58 days 22:42:25  \n",
       "2016-04-04 18:54:38 148 days 12:32:40  \n",
       "2016-05-28 15:22:14  13 days 09:32:28  \n",
       "2016-10-06 19:14:42  20 days 04:57:08  \n",
       "2016-11-01 05:46:44  15 days 06:08:28  \n",
       "2016-12-06 01:38:12  26 days 08:16:49  \n",
       "2017-01-04 19:50:09  24 days 12:09:43  \n",
       "2017-02-03 11:33:01  12 days 17:50:58  "
      ]
     },
     "execution_count": 79,
     "metadata": {},
     "output_type": "execute_result"
    }
   ],
   "source": [
    "#That max is a little scary... lets see where that lands\n",
    "#ANSWER: between 11/15 and 04/16\n",
    "import time\n",
    "from datetime import date, timedelta\n",
    "\n",
    "x = timedelta(days=10)\n",
    "\n",
    "df[df['time_diff'] > x]"
   ]
  },
  {
   "cell_type": "code",
   "execution_count": 76,
   "metadata": {
    "collapsed": false,
    "scrolled": true
   },
   "outputs": [],
   "source": [
    "#resample method = performs a frequency conversion of time series data, resampling it to constant intervals\n",
    "#pad method = forward fills the data to the next change\n",
    "#http://pandas.pydata.org/pandas-docs/stable/timeseries.html#offset-aliases\n",
    "\n",
    "test = df.resample('2D').pad()"
   ]
  },
  {
   "cell_type": "code",
   "execution_count": 77,
   "metadata": {
    "collapsed": false
   },
   "outputs": [
    {
     "data": {
      "text/plain": [
       "count    593.000000\n",
       "mean       0.111096\n",
       "std        0.184304\n",
       "min        0.064000\n",
       "25%        0.068700\n",
       "50%        0.074200\n",
       "75%        0.106900\n",
       "max        4.000000\n",
       "Name: price, dtype: float64"
      ]
     },
     "execution_count": 77,
     "metadata": {},
     "output_type": "execute_result"
    }
   ],
   "source": [
    "test.price.describe()\n"
   ]
  },
  {
   "cell_type": "code",
   "execution_count": 68,
   "metadata": {
    "collapsed": false
   },
   "outputs": [
    {
     "data": {
      "text/plain": [
       "date_time\n",
       "2013-11-17    0.128\n",
       "2013-12-01    0.151\n",
       "2013-12-15    0.203\n",
       "2013-12-29    0.128\n",
       "2014-01-12    0.190\n",
       "Freq: 2W-SUN, Name: price, dtype: float64"
      ]
     },
     "execution_count": 68,
     "metadata": {},
     "output_type": "execute_result"
    }
   ],
   "source": [
    "test.price.head()\n"
   ]
  },
  {
   "cell_type": "code",
   "execution_count": 69,
   "metadata": {
    "collapsed": false
   },
   "outputs": [
    {
     "data": {
      "text/html": [
       "<div>\n",
       "<table border=\"1\" class=\"dataframe\">\n",
       "  <thead>\n",
       "    <tr style=\"text-align: right;\">\n",
       "      <th></th>\n",
       "      <th>price</th>\n",
       "      <th>dt</th>\n",
       "      <th>dt_shift</th>\n",
       "      <th>time_diff</th>\n",
       "    </tr>\n",
       "    <tr>\n",
       "      <th>date_time</th>\n",
       "      <th></th>\n",
       "      <th></th>\n",
       "      <th></th>\n",
       "      <th></th>\n",
       "    </tr>\n",
       "  </thead>\n",
       "  <tbody>\n",
       "  </tbody>\n",
       "</table>\n",
       "</div>"
      ],
      "text/plain": [
       "Empty DataFrame\n",
       "Columns: [price, dt, dt_shift, time_diff]\n",
       "Index: []"
      ]
     },
     "execution_count": 69,
     "metadata": {},
     "output_type": "execute_result"
    }
   ],
   "source": [
    "test[test['price'] > 1.00]"
   ]
  },
  {
   "cell_type": "code",
   "execution_count": 73,
   "metadata": {
    "collapsed": false
   },
   "outputs": [
    {
     "data": {
      "text/plain": [
       "[<matplotlib.lines.Line2D at 0x10eadc190>]"
      ]
     },
     "execution_count": 73,
     "metadata": {},
     "output_type": "execute_result"
    },
    {
     "data": {
      "image/png": "[encoded data removed]",
      "text/plain": [
       "<matplotlib.figure.Figure at 0x10ea5b190>"
      ]
     },
     "metadata": {},
     "output_type": "display_data"
    }
   ],
   "source": [
    "plt.plot(test.price['2016'])\n",
    "#There appears to have no trend but large spikes suggesting an MA model would be most effective\n",
    "#Additionally, htere appears to be right "
   ]
  },
  {
   "cell_type": "code",
   "execution_count": 80,
   "metadata": {
    "collapsed": false
   },
   "outputs": [],
   "source": [
    "#THE THE AMOUNT OF M,ISSING DATA SEEMS TO BE TOO LARGE TO HAVE ACCURATE CONSISTENT DATA FOR A TIME SERIES MODEL\n",
    "#MAY REVISIT THIS TAKING A SECTION OF DATA THAT HAS MINIMAL AMOUNT OF MISSING DATA AND TAKINNG AVERAGES?"
   ]
  },
  {
   "cell_type": "code",
   "execution_count": null,
   "metadata": {
    "collapsed": true
   },
   "outputs": [],
   "source": []
  }
 ],
 "metadata": {
  "kernelspec": {
   "display_name": "Python 2",
   "language": "python",
   "name": "python2"
  },
  "language_info": {
   "codemirror_mode": {
    "name": "ipython",
    "version": 2
   },
   "file_extension": ".py",
   "mimetype": "text/x-python",
   "name": "python",
   "nbconvert_exporter": "python",
   "pygments_lexer": "ipython2",
   "version": "2.7.13"
  }
 },
 "nbformat": 4,
 "nbformat_minor": 2
}
