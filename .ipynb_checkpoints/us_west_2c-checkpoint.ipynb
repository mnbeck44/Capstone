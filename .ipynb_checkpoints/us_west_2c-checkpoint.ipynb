{
 "cells": [
  {
   "cell_type": "code",
   "execution_count": 3,
   "metadata": {
    "collapsed": false
   },
   "outputs": [],
   "source": [
    "import pandas as pd\n",
    "import numpy as np\n",
    "import matplotlib.pylab as plt\n",
    "%matplotlib inline\n",
    "from sqlalchemy import create_engine\n",
    "import time\n",
    "from datetime import date, timedelta\n",
    "\n",
    "engine = create_engine('postgresql://michaelbecker@localhost:5432/spotdb')"
   ]
  },
  {
   "cell_type": "code",
   "execution_count": 4,
   "metadata": {
    "collapsed": false
   },
   "outputs": [],
   "source": [
    "c = engine.connect()"
   ]
  },
  {
   "cell_type": "code",
   "execution_count": 5,
   "metadata": {
    "collapsed": false
   },
   "outputs": [
    {
     "name": "stdout",
     "output_type": "stream",
     "text": [
      "SELECT date_time, price FROM all_spot WHERE zone='us-west-2c' AND type='c3.2xlarge' AND os='Linux/UNIX (Amazon VPC)';\n"
     ]
    }
   ],
   "source": [
    "#Change zone when running a new model\n",
    "\n",
    "sql_str = \"SELECT date_time, price FROM all_spot WHERE zone='us-west-2c' AND type='c3.2xlarge' AND os='Linux/UNIX (Amazon VPC)';\"\n",
    "print sql_str"
   ]
  },
  {
   "cell_type": "code",
   "execution_count": 6,
   "metadata": {
    "collapsed": true
   },
   "outputs": [],
   "source": [
    "df = pd.read_sql(sql_str, c)"
   ]
  },
  {
   "cell_type": "code",
   "execution_count": 7,
   "metadata": {
    "collapsed": false,
    "scrolled": true
   },
   "outputs": [
    {
     "name": "stdout",
     "output_type": "stream",
     "text": [
      "             date_time   price\n",
      "0  2015-07-01 06:09:11  0.0673\n",
      "1  2015-07-01 06:14:05  0.0676\n",
      "2  2015-07-01 06:24:09  0.0670\n",
      "3  2015-07-01 06:34:08  0.0669\n",
      "4  2015-07-01 06:39:00  0.0667\n",
      "date_time     object\n",
      "price        float64\n",
      "dtype: object\n"
     ]
    }
   ],
   "source": [
    "print df.head()\n",
    "print df.dtypes"
   ]
  },
  {
   "cell_type": "code",
   "execution_count": 8,
   "metadata": {
    "collapsed": true
   },
   "outputs": [],
   "source": [
    "#Change 'date_time' to a datetime type\n",
    "df['date_time'] = df['date_time'].apply(lambda x: pd.to_datetime(x))"
   ]
  },
  {
   "cell_type": "code",
   "execution_count": 9,
   "metadata": {
    "collapsed": false
   },
   "outputs": [
    {
     "name": "stdout",
     "output_type": "stream",
     "text": [
      "            date_time   price\n",
      "0 2015-07-01 06:09:11  0.0673\n",
      "1 2015-07-01 06:14:05  0.0676\n",
      "2 2015-07-01 06:24:09  0.0670\n",
      "3 2015-07-01 06:34:08  0.0669\n",
      "4 2015-07-01 06:39:00  0.0667\n",
      "date_time    datetime64[ns]\n",
      "price               float64\n",
      "dtype: object\n",
      "(77938, 2)\n"
     ]
    }
   ],
   "source": [
    "print df.head()\n",
    "print df.dtypes\n",
    "print df.shape"
   ]
  },
  {
   "cell_type": "code",
   "execution_count": 10,
   "metadata": {
    "collapsed": true
   },
   "outputs": [],
   "source": [
    "#Make 'date_time' the index\n",
    "df = df.set_index('date_time')"
   ]
  },
  {
   "cell_type": "code",
   "execution_count": 11,
   "metadata": {
    "collapsed": false
   },
   "outputs": [
    {
     "data": {
      "text/plain": [
       "DatetimeIndex(['2015-07-01 06:09:11', '2015-07-01 06:14:05',\n",
       "               '2015-07-01 06:24:09', '2015-07-01 06:34:08',\n",
       "               '2015-07-01 06:39:00', '2015-07-01 06:43:53',\n",
       "               '2015-07-01 06:48:55', '2015-07-01 07:13:40',\n",
       "               '2015-07-01 07:28:35', '2015-07-01 07:33:30',\n",
       "               ...\n",
       "               '2017-02-11 23:11:02', '2017-02-11 23:23:02',\n",
       "               '2017-02-11 23:30:17', '2017-02-11 23:37:02',\n",
       "               '2017-02-11 23:39:42', '2017-02-11 23:48:17',\n",
       "               '2017-02-11 23:49:08', '2017-02-12 00:01:05',\n",
       "               '2017-02-12 00:08:02', '2017-02-12 00:24:44'],\n",
       "              dtype='datetime64[ns]', name=u'date_time', length=77938, freq=None)"
      ]
     },
     "execution_count": 11,
     "metadata": {},
     "output_type": "execute_result"
    }
   ],
   "source": [
    "df.index"
   ]
  },
  {
   "cell_type": "code",
   "execution_count": 12,
   "metadata": {
    "collapsed": false
   },
   "outputs": [],
   "source": [
    "#Make sure the index is sorted apporpriately\n",
    "df = df.sort_index()"
   ]
  },
  {
   "cell_type": "code",
   "execution_count": 13,
   "metadata": {
    "collapsed": false
   },
   "outputs": [
    {
     "data": {
      "text/plain": [
       "True"
      ]
     },
     "execution_count": 13,
     "metadata": {},
     "output_type": "execute_result"
    }
   ],
   "source": [
    "df.index.is_monotonic_increasing"
   ]
  },
  {
   "cell_type": "code",
   "execution_count": 14,
   "metadata": {
    "collapsed": false
   },
   "outputs": [
    {
     "name": "stdout",
     "output_type": "stream",
     "text": [
      "                     price\n",
      "date_time                 \n",
      "2013-11-14 16:48:58  0.203\n",
      "2013-11-15 05:33:34  0.250\n",
      "2013-11-15 07:18:36  0.203\n",
      "2013-11-15 12:51:39  0.400\n",
      "2013-11-15 18:45:55  0.203\n"
     ]
    }
   ],
   "source": [
    "print df.head()"
   ]
  },
  {
   "cell_type": "code",
   "execution_count": 15,
   "metadata": {
    "collapsed": false,
    "scrolled": true
   },
   "outputs": [],
   "source": [
    "#resample method = performs a frequency conversion of time series data, resampling it to constant intervals\n",
    "#pad method = forward fills the data to the next change\n",
    "#http://pandas.pydata.org/pandas-docs/stable/timeseries.html#offset-aliases\n",
    "\n",
    "prod = df.resample('W').pad()"
   ]
  },
  {
   "cell_type": "code",
   "execution_count": 16,
   "metadata": {
    "collapsed": false
   },
   "outputs": [
    {
     "data": {
      "text/plain": [
       "count    170.000000\n",
       "mean       0.171987\n",
       "std        0.324691\n",
       "min        0.064100\n",
       "25%        0.066425\n",
       "50%        0.072050\n",
       "75%        0.094900\n",
       "max        2.400000\n",
       "Name: price, dtype: float64"
      ]
     },
     "execution_count": 16,
     "metadata": {},
     "output_type": "execute_result"
    }
   ],
   "source": [
    "prod.price.describe()\n"
   ]
  },
  {
   "cell_type": "code",
   "execution_count": 17,
   "metadata": {
    "collapsed": false
   },
   "outputs": [
    {
     "data": {
      "text/plain": [
       "date_time\n",
       "2013-11-17    0.260\n",
       "2013-11-24    0.128\n",
       "2013-12-01    0.159\n",
       "2013-12-08    1.500\n",
       "2013-12-15    0.301\n",
       "Freq: W-SUN, Name: price, dtype: float64"
      ]
     },
     "execution_count": 17,
     "metadata": {},
     "output_type": "execute_result"
    }
   ],
   "source": [
    "prod.price.head()\n"
   ]
  },
  {
   "cell_type": "code",
   "execution_count": 57,
   "metadata": {
    "collapsed": false
   },
   "outputs": [
    {
     "name": "stdout",
     "output_type": "stream",
     "text": [
      "ADF Statistic: -5.102948\n",
      "p-value: 0.000014\n",
      "Critical Values:\n",
      "\t5%: -2.930\n",
      "\t1%: -3.589\n",
      "\t10%: -2.603\n"
     ]
    }
   ],
   "source": [
    "from statsmodels.tsa.stattools import adfuller\n",
    "\n",
    "#The null hypoithesis is that the data is time dependent (non-stationary)\n",
    "#The test stat is signifficantly lower than the critical values, meaning we can reject the null and our data is stationary\n",
    "#No need to to take log of\n",
    "\n",
    "X = prod.price\n",
    "result = adfuller(X, 1) #max lag of 1\n",
    "print('ADF Statistic: %f' % result[0])\n",
    "print('p-value: %f' % result[1])\n",
    "print('Critical Values:')\n",
    "for key, value in result[4].items():\n",
    "    print('\\t%s: %.3f' % (key, value))"
   ]
  },
  {
   "cell_type": "code",
   "execution_count": 19,
   "metadata": {
    "collapsed": false
   },
   "outputs": [
    {
     "name": "stdout",
     "output_type": "stream",
     "text": [
      "[<matplotlib.lines.Line2D object at 0x110479b10>]\n",
      "[<matplotlib.lines.Line2D object at 0x110b5acd0>]\n",
      "[<matplotlib.lines.Line2D object at 0x110b3f3d0>]\n",
      "[<matplotlib.lines.Line2D object at 0x110b3fa10>]\n",
      "[<matplotlib.lines.Line2D object at 0x110b2e050>]\n"
     ]
    },
    {
     "data": {
      "image/png": "[encoded data removed]",
      "text/plain": [
       "<matplotlib.figure.Figure at 0x105220890>"
      ]
     },
     "metadata": {},
     "output_type": "display_data"
    }
   ],
   "source": [
    "###Graph of prices taking the weekly mean... still no visual of non-stationarity\n",
    "\n",
    "\n",
    "print plt.plot(prod.price['2013'])\n",
    "print plt.plot(prod.price['2014'])\n",
    "print plt.plot(prod.price['2015'])\n",
    "print plt.plot(prod.price['2016'])\n",
    "print plt.plot(prod.price['2017'])\n",
    "#There appears to have no trend but large spikes suggesting an MA model would be most effective\n",
    "#Additionally, there appears to be a right skew in the price distribution given the large spikes with flat lines between\n",
    "#Take square root of the prices to negate the spikes (right skew)\n",
    "#Also, there might be some seasonality with spikes after/around 1st quarter of year and more so at mid year\n",
    "#shrink down to find trends"
   ]
  },
  {
   "cell_type": "code",
   "execution_count": 20,
   "metadata": {
    "collapsed": true
   },
   "outputs": [],
   "source": [
    "#Started with 5 minute resampling but there was zero relationships to be seen\n",
    "#The weekly data is the shortest period when we start seeing a measurable relationship\n",
    "#Moving forward with the weekldata for this specific availibility zone\n",
    "\n",
    "data = df.resample('W').pad()\n",
    "train = data.price[:'2016-11-29']\n",
    "test = data.price['2016-11-30':]"
   ]
  },
  {
   "cell_type": "code",
   "execution_count": 21,
   "metadata": {
    "collapsed": false
   },
   "outputs": [
    {
     "name": "stdout",
     "output_type": "stream",
     "text": [
      "(170, 1)\n",
      "(159,)\n",
      "(11,)\n"
     ]
    }
   ],
   "source": [
    "print data.shape\n",
    "print train.shape\n",
    "print test.shape"
   ]
  },
  {
   "cell_type": "code",
   "execution_count": 22,
   "metadata": {
    "collapsed": false
   },
   "outputs": [
    {
     "data": {
      "text/plain": [
       "<matplotlib.axes._subplots.AxesSubplot at 0x111229290>"
      ]
     },
     "execution_count": 22,
     "metadata": {},
     "output_type": "execute_result"
    },
    {
     "data": {
      "image/png": "[encoded data removed]",
      "text/plain": [
       "<matplotlib.figure.Figure at 0x1104184d0>"
      ]
     },
     "metadata": {},
     "output_type": "display_data"
    }
   ],
   "source": [
    "pd.tools.plotting.autocorrelation_plot(train)\n"
   ]
  },
  {
   "cell_type": "code",
   "execution_count": 25,
   "metadata": {
    "collapsed": true
   },
   "outputs": [],
   "source": [
    "from statsmodels.graphics.tsaplots import plot_acf, plot_pacf\n"
   ]
  },
  {
   "cell_type": "code",
   "execution_count": 26,
   "metadata": {
    "collapsed": false
   },
   "outputs": [
    {
     "name": "stdout",
     "output_type": "stream",
     "text": [
      "Figure(432x288)\n"
     ]
    },
    {
     "data": {
      "image/png": "[encoded data removed]",
      "text/plain": [
       "<matplotlib.figure.Figure at 0x110207f90>"
      ]
     },
     "metadata": {},
     "output_type": "display_data"
    }
   ],
   "source": [
    "print plot_acf(train, lags=8)\n",
    "#Helps determine 'q'"
   ]
  },
  {
   "cell_type": "code",
   "execution_count": 27,
   "metadata": {
    "collapsed": false
   },
   "outputs": [
    {
     "name": "stdout",
     "output_type": "stream",
     "text": [
      "Figure(432x288)\n"
     ]
    },
    {
     "data": {
      "image/png": "[encoded data removed]",
      "text/plain": [
       "<matplotlib.figure.Figure at 0x10fdb4810>"
      ]
     },
     "metadata": {},
     "output_type": "display_data"
    }
   ],
   "source": [
    "print plot_pacf(train, lags=8)\n",
    "#helps determine 'p'"
   ]
  },
  {
   "cell_type": "code",
   "execution_count": 67,
   "metadata": {
    "collapsed": false
   },
   "outputs": [
    {
     "name": "stderr",
     "output_type": "stream",
     "text": [
      "/Users/michaelbecker/anaconda2/lib/python2.7/site-packages/statsmodels/base/model.py:466: ConvergenceWarning: Maximum Likelihood optimization failed to converge. Check mle_retvals\n",
      "  \"Check mle_retvals\", ConvergenceWarning)\n"
     ]
    }
   ],
   "source": [
    "from statsmodels.tsa.arima_model import ARIMA\n",
    "\n",
    "model = ARIMA(train, (2, 0, 5)).fit()\n",
    "#us_west_2b order = 4,0,2 \n",
    "#us_west_2a order = 3,0,0\n",
    "#us_west_2c order = 4,0,2"
   ]
  },
  {
   "cell_type": "code",
   "execution_count": 68,
   "metadata": {
    "collapsed": false
   },
   "outputs": [
    {
     "name": "stdout",
     "output_type": "stream",
     "text": [
      "                              ARMA Model Results                              \n",
      "==============================================================================\n",
      "Dep. Variable:                  price   No. Observations:                  159\n",
      "Model:                     ARMA(2, 5)   Log Likelihood                  37.138\n",
      "Method:                       css-mle   S.D. of innovations              0.186\n",
      "Date:                Thu, 04 May 2017   AIC                            -56.275\n",
      "Time:                        10:59:57   BIC                            -28.655\n",
      "Sample:                    11-17-2013   HQIC                           -45.059\n",
      "                         - 11-27-2016                                         \n",
      "===============================================================================\n",
      "                  coef    std err          z      P>|z|      [95.0% Conf. Int.]\n",
      "-------------------------------------------------------------------------------\n",
      "const           0.1821      0.094      1.941      0.054        -0.002     0.366\n",
      "ar.L1.price     1.4427      0.137     10.532      0.000         1.174     1.711\n",
      "ar.L2.price    -0.4666      0.104     -4.484      0.000        -0.670    -0.263\n",
      "ma.L1.price    -0.6597      0.122     -5.393      0.000        -0.899    -0.420\n",
      "ma.L2.price    -0.5947      0.072     -8.248      0.000        -0.736    -0.453\n",
      "ma.L3.price     0.8314      0.097      8.578      0.000         0.641     1.021\n",
      "ma.L4.price     0.3267      0.118      2.781      0.006         0.096     0.557\n",
      "ma.L5.price    -0.7496      0.105     -7.143      0.000        -0.955    -0.544\n",
      "                                    Roots                                    \n",
      "=============================================================================\n",
      "                 Real           Imaginary           Modulus         Frequency\n",
      "-----------------------------------------------------------------------------\n",
      "AR.1            1.0489           +0.0000j            1.0489            0.0000\n",
      "AR.2            2.0434           +0.0000j            2.0434            0.0000\n",
      "MA.1           -0.9912           -0.5013j            1.1107           -0.4255\n",
      "MA.2           -0.9912           +0.5013j            1.1107            0.4255\n",
      "MA.3            0.6723           -0.7451j            1.0036           -0.1332\n",
      "MA.4            0.6723           +0.7451j            1.0036            0.1332\n",
      "MA.5            1.0736           -0.0000j            1.0736           -0.0000\n",
      "-----------------------------------------------------------------------------\n"
     ]
    }
   ],
   "source": [
    "print model.summary()"
   ]
  },
  {
   "cell_type": "code",
   "execution_count": 69,
   "metadata": {
    "collapsed": false
   },
   "outputs": [
    {
     "name": "stdout",
     "output_type": "stream",
     "text": [
      "Figure(432x288)\n"
     ]
    },
    {
     "data": {
      "image/png": "[encoded data removed]",
      "text/plain": [
       "<matplotlib.figure.Figure at 0x11044dd50>"
      ]
     },
     "metadata": {},
     "output_type": "display_data"
    }
   ],
   "source": [
    "\n",
    "figure = model.plot_predict(1, 170)\n",
    "print figure"
   ]
  },
  {
   "cell_type": "code",
   "execution_count": 70,
   "metadata": {
    "collapsed": false
   },
   "outputs": [
    {
     "data": {
      "image/png": "[encoded data removed]",
      "text/plain": [
       "<matplotlib.figure.Figure at 0x110d86210>"
      ]
     },
     "metadata": {},
     "output_type": "display_data"
    },
    {
     "data": {
      "image/png": "[encoded data removed]",
      "text/plain": [
       "<matplotlib.figure.Figure at 0x1101fab90>"
      ]
     },
     "metadata": {},
     "output_type": "display_data"
    },
    {
     "name": "stdout",
     "output_type": "stream",
     "text": [
      "count    159.000000\n",
      "mean      -0.000371\n",
      "std        0.209121\n",
      "min       -0.980768\n",
      "25%       -0.046024\n",
      "50%       -0.017547\n",
      "75%        0.012188\n",
      "max        1.265370\n",
      "dtype: float64\n"
     ]
    }
   ],
   "source": [
    "residuals = model.resid\n",
    "residuals.plot()\n",
    "plt.show()\n",
    "residuals.plot(kind='kde')\n",
    "plt.show()\n",
    "print(residuals.describe())"
   ]
  },
  {
   "cell_type": "code",
   "execution_count": 71,
   "metadata": {
    "collapsed": false
   },
   "outputs": [
    {
     "name": "stdout",
     "output_type": "stream",
     "text": [
      "Figure(432x288)\n",
      "Figure(432x288)\n"
     ]
    },
    {
     "data": {
      "image/png": "[encoded data removed]",
      "text/plain": [
       "<matplotlib.figure.Figure at 0x110569cd0>"
      ]
     },
     "metadata": {},
     "output_type": "display_data"
    },
    {
     "data": {
      "image/png": "[encoded data removed]",
      "text/plain": [
       "<matplotlib.figure.Figure at 0x11044d550>"
      ]
     },
     "metadata": {},
     "output_type": "display_data"
    }
   ],
   "source": [
    "\n",
    "print plot_acf(model.resid, lags=28)\n",
    "#Decays to zero and hugs the line, suggesting residuals are not correlated\n",
    "print plot_pacf(model.resid, lags=28)"
   ]
  },
  {
   "cell_type": "code",
   "execution_count": 72,
   "metadata": {
    "collapsed": true
   },
   "outputs": [],
   "source": [
    "from sklearn.metrics import mean_squared_error\n",
    "from sklearn.metrics import mean_absolute_error"
   ]
  },
  {
   "cell_type": "code",
   "execution_count": 74,
   "metadata": {
    "collapsed": false
   },
   "outputs": [
    {
     "name": "stderr",
     "output_type": "stream",
     "text": [
      "/Users/michaelbecker/anaconda2/lib/python2.7/site-packages/statsmodels/base/model.py:466: ConvergenceWarning: Maximum Likelihood optimization failed to converge. Check mle_retvals\n",
      "  \"Check mle_retvals\", ConvergenceWarning)\n"
     ]
    },
    {
     "name": "stdout",
     "output_type": "stream",
     "text": [
      "predicted=0.093814, expected=0.127700\n"
     ]
    },
    {
     "name": "stderr",
     "output_type": "stream",
     "text": [
      "/Users/michaelbecker/anaconda2/lib/python2.7/site-packages/statsmodels/base/model.py:466: ConvergenceWarning: Maximum Likelihood optimization failed to converge. Check mle_retvals\n",
      "  \"Check mle_retvals\", ConvergenceWarning)\n"
     ]
    },
    {
     "name": "stdout",
     "output_type": "stream",
     "text": [
      "predicted=0.098669, expected=0.074300\n"
     ]
    },
    {
     "name": "stderr",
     "output_type": "stream",
     "text": [
      "/Users/michaelbecker/anaconda2/lib/python2.7/site-packages/statsmodels/base/model.py:466: ConvergenceWarning: Maximum Likelihood optimization failed to converge. Check mle_retvals\n",
      "  \"Check mle_retvals\", ConvergenceWarning)\n"
     ]
    },
    {
     "name": "stdout",
     "output_type": "stream",
     "text": [
      "predicted=0.069339, expected=0.075300\n"
     ]
    },
    {
     "name": "stderr",
     "output_type": "stream",
     "text": [
      "/Users/michaelbecker/anaconda2/lib/python2.7/site-packages/statsmodels/base/model.py:466: ConvergenceWarning: Maximum Likelihood optimization failed to converge. Check mle_retvals\n",
      "  \"Check mle_retvals\", ConvergenceWarning)\n"
     ]
    },
    {
     "name": "stdout",
     "output_type": "stream",
     "text": [
      "predicted=0.142221, expected=0.075300\n"
     ]
    },
    {
     "name": "stderr",
     "output_type": "stream",
     "text": [
      "/Users/michaelbecker/anaconda2/lib/python2.7/site-packages/statsmodels/base/model.py:466: ConvergenceWarning: Maximum Likelihood optimization failed to converge. Check mle_retvals\n",
      "  \"Check mle_retvals\", ConvergenceWarning)\n"
     ]
    },
    {
     "name": "stdout",
     "output_type": "stream",
     "text": [
      "predicted=0.109141, expected=0.075300\n"
     ]
    },
    {
     "name": "stderr",
     "output_type": "stream",
     "text": [
      "/Users/michaelbecker/anaconda2/lib/python2.7/site-packages/statsmodels/base/model.py:466: ConvergenceWarning: Maximum Likelihood optimization failed to converge. Check mle_retvals\n",
      "  \"Check mle_retvals\", ConvergenceWarning)\n"
     ]
    },
    {
     "name": "stdout",
     "output_type": "stream",
     "text": [
      "predicted=0.111725, expected=0.092100\n"
     ]
    },
    {
     "name": "stderr",
     "output_type": "stream",
     "text": [
      "/Users/michaelbecker/anaconda2/lib/python2.7/site-packages/statsmodels/base/model.py:466: ConvergenceWarning: Maximum Likelihood optimization failed to converge. Check mle_retvals\n",
      "  \"Check mle_retvals\", ConvergenceWarning)\n"
     ]
    },
    {
     "name": "stdout",
     "output_type": "stream",
     "text": [
      "predicted=0.100905, expected=0.091500\n"
     ]
    },
    {
     "name": "stderr",
     "output_type": "stream",
     "text": [
      "/Users/michaelbecker/anaconda2/lib/python2.7/site-packages/statsmodels/base/model.py:466: ConvergenceWarning: Maximum Likelihood optimization failed to converge. Check mle_retvals\n",
      "  \"Check mle_retvals\", ConvergenceWarning)\n"
     ]
    },
    {
     "name": "stdout",
     "output_type": "stream",
     "text": [
      "predicted=0.056357, expected=0.095000\n"
     ]
    },
    {
     "name": "stderr",
     "output_type": "stream",
     "text": [
      "/Users/michaelbecker/anaconda2/lib/python2.7/site-packages/statsmodels/base/model.py:466: ConvergenceWarning: Maximum Likelihood optimization failed to converge. Check mle_retvals\n",
      "  \"Check mle_retvals\", ConvergenceWarning)\n"
     ]
    },
    {
     "name": "stdout",
     "output_type": "stream",
     "text": [
      "predicted=0.102394, expected=0.095000\n"
     ]
    },
    {
     "name": "stderr",
     "output_type": "stream",
     "text": [
      "/Users/michaelbecker/anaconda2/lib/python2.7/site-packages/statsmodels/base/model.py:466: ConvergenceWarning: Maximum Likelihood optimization failed to converge. Check mle_retvals\n",
      "  \"Check mle_retvals\", ConvergenceWarning)\n"
     ]
    },
    {
     "name": "stdout",
     "output_type": "stream",
     "text": [
      "predicted=0.088882, expected=0.088300\n",
      "predicted=0.134317, expected=0.086900\n",
      "Test MSE: 0.001\n",
      "Test RMSE: 0.033\n",
      "Test MAE: 0.026\n"
     ]
    },
    {
     "name": "stderr",
     "output_type": "stream",
     "text": [
      "/Users/michaelbecker/anaconda2/lib/python2.7/site-packages/statsmodels/base/model.py:466: ConvergenceWarning: Maximum Likelihood optimization failed to converge. Check mle_retvals\n",
      "  \"Check mle_retvals\", ConvergenceWarning)\n"
     ]
    }
   ],
   "source": [
    "history = [x for x in train] #takes train and builds a model, then appends the 'obs' to roll history onwards\n",
    "predictions = list()\n",
    "for t in range(len(test)):\n",
    "    model = ARIMA(history, order=(2,0,5)) #model is called with params of above\n",
    "    model_fit = model.fit(disp=0) #model is fit just as above\n",
    "    output = model_fit.forecast()\n",
    "    yhat = output[0]\n",
    "    predictions.append(yhat)\n",
    "    obs = test[t]\n",
    "    history.append(obs)\n",
    "    print('predicted=%f, expected=%f' % (yhat, obs))\n",
    "error = mean_squared_error(test, predictions)\n",
    "error1 = mean_absolute_error(test, predictions)\n",
    "print('Test MSE: %.3f' % error)\n",
    "print('Test RMSE: %.3f' % error**(0.5))\n",
    "print('Test MAE: %.3f' % error1)"
   ]
  },
  {
   "cell_type": "code",
   "execution_count": 52,
   "metadata": {
    "collapsed": false
   },
   "outputs": [
    {
     "data": {
      "image/png": "[encoded data removed]",
      "text/plain": [
       "<matplotlib.figure.Figure at 0x1109bd2d0>"
      ]
     },
     "metadata": {},
     "output_type": "display_data"
    }
   ],
   "source": [
    "plt.plot(list(test))\n",
    "plt.plot(predictions, color='red')\n",
    "plt.show()"
   ]
  },
  {
   "cell_type": "code",
   "execution_count": null,
   "metadata": {
    "collapsed": true
   },
   "outputs": [],
   "source": []
  }
 ],
 "metadata": {
  "kernelspec": {
   "display_name": "Python 2",
   "language": "python",
   "name": "python2"
  },
  "language_info": {
   "codemirror_mode": {
    "name": "ipython",
    "version": 2
   },
   "file_extension": ".py",
   "mimetype": "text/x-python",
   "name": "python",
   "nbconvert_exporter": "python",
   "pygments_lexer": "ipython2",
   "version": "2.7.13"
  }
 },
 "nbformat": 4,
 "nbformat_minor": 2
}
