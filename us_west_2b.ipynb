{
 "cells": [
  {
   "cell_type": "code",
   "execution_count": 1,
   "metadata": {
    "collapsed": false
   },
   "outputs": [],
   "source": [
    "import pandas as pd\n",
    "import numpy as np\n",
    "import matplotlib.pylab as plt\n",
    "%matplotlib inline\n",
    "from sqlalchemy import create_engine\n",
    "import time\n",
    "from datetime import date, timedelta\n",
    "\n",
    "engine = create_engine('postgresql://michaelbecker@localhost:5432/spotdb')"
   ]
  },
  {
   "cell_type": "code",
   "execution_count": 2,
   "metadata": {
    "collapsed": false
   },
   "outputs": [],
   "source": [
    "c = engine.connect()"
   ]
  },
  {
   "cell_type": "code",
   "execution_count": 3,
   "metadata": {
    "collapsed": false
   },
   "outputs": [
    {
     "data": {
      "text/html": [
       "<div>\n",
       "<table border=\"1\" class=\"dataframe\">\n",
       "  <thead>\n",
       "    <tr style=\"text-align: right;\">\n",
       "      <th></th>\n",
       "      <th>date</th>\n",
       "      <th>time</th>\n",
       "      <th>zone</th>\n",
       "      <th>type</th>\n",
       "      <th>os</th>\n",
       "      <th>price</th>\n",
       "      <th>date_time</th>\n",
       "    </tr>\n",
       "  </thead>\n",
       "  <tbody>\n",
       "    <tr>\n",
       "      <th>0</th>\n",
       "      <td>2015-07-01</td>\n",
       "      <td>22:12:56</td>\n",
       "      <td>us-west-2b</td>\n",
       "      <td>c3.2xlarge</td>\n",
       "      <td>Linux/UNIX (Amazon VPC)</td>\n",
       "      <td>0.0718</td>\n",
       "      <td>2015-07-01 22:12:56</td>\n",
       "    </tr>\n",
       "    <tr>\n",
       "      <th>1</th>\n",
       "      <td>2015-07-01</td>\n",
       "      <td>22:22:43</td>\n",
       "      <td>us-west-2b</td>\n",
       "      <td>c3.2xlarge</td>\n",
       "      <td>Linux/UNIX (Amazon VPC)</td>\n",
       "      <td>0.0717</td>\n",
       "      <td>2015-07-01 22:22:43</td>\n",
       "    </tr>\n",
       "    <tr>\n",
       "      <th>2</th>\n",
       "      <td>2015-07-01</td>\n",
       "      <td>22:27:34</td>\n",
       "      <td>us-west-2b</td>\n",
       "      <td>c3.2xlarge</td>\n",
       "      <td>Linux/UNIX (Amazon VPC)</td>\n",
       "      <td>0.0715</td>\n",
       "      <td>2015-07-01 22:27:34</td>\n",
       "    </tr>\n",
       "    <tr>\n",
       "      <th>3</th>\n",
       "      <td>2015-07-01</td>\n",
       "      <td>22:34:37</td>\n",
       "      <td>us-west-2b</td>\n",
       "      <td>c3.2xlarge</td>\n",
       "      <td>Linux/UNIX (Amazon VPC)</td>\n",
       "      <td>0.0720</td>\n",
       "      <td>2015-07-01 22:34:37</td>\n",
       "    </tr>\n",
       "    <tr>\n",
       "      <th>4</th>\n",
       "      <td>2015-07-01</td>\n",
       "      <td>22:41:42</td>\n",
       "      <td>us-west-2b</td>\n",
       "      <td>c3.2xlarge</td>\n",
       "      <td>Linux/UNIX (Amazon VPC)</td>\n",
       "      <td>0.0721</td>\n",
       "      <td>2015-07-01 22:41:42</td>\n",
       "    </tr>\n",
       "  </tbody>\n",
       "</table>\n",
       "</div>"
      ],
      "text/plain": [
       "         date      time        zone        type                       os  \\\n",
       "0  2015-07-01  22:12:56  us-west-2b  c3.2xlarge  Linux/UNIX (Amazon VPC)   \n",
       "1  2015-07-01  22:22:43  us-west-2b  c3.2xlarge  Linux/UNIX (Amazon VPC)   \n",
       "2  2015-07-01  22:27:34  us-west-2b  c3.2xlarge  Linux/UNIX (Amazon VPC)   \n",
       "3  2015-07-01  22:34:37  us-west-2b  c3.2xlarge  Linux/UNIX (Amazon VPC)   \n",
       "4  2015-07-01  22:41:42  us-west-2b  c3.2xlarge  Linux/UNIX (Amazon VPC)   \n",
       "\n",
       "    price            date_time  \n",
       "0  0.0718  2015-07-01 22:12:56  \n",
       "1  0.0717  2015-07-01 22:22:43  \n",
       "2  0.0715  2015-07-01 22:27:34  \n",
       "3  0.0720  2015-07-01 22:34:37  \n",
       "4  0.0721  2015-07-01 22:41:42  "
      ]
     },
     "execution_count": 3,
     "metadata": {},
     "output_type": "execute_result"
    }
   ],
   "source": [
    "pd.read_sql('select * from us_west_2b limit 5', c)"
   ]
  },
  {
   "cell_type": "code",
   "execution_count": 4,
   "metadata": {
    "collapsed": true
   },
   "outputs": [],
   "source": [
    "df = pd.read_sql('SELECT date_time, price FROM us_west_2b;', c)"
   ]
  },
  {
   "cell_type": "code",
   "execution_count": 5,
   "metadata": {
    "collapsed": false
   },
   "outputs": [
    {
     "name": "stdout",
     "output_type": "stream",
     "text": [
      "             date_time   price\n",
      "0  2015-07-01 22:12:56  0.0718\n",
      "1  2015-07-01 22:22:43  0.0717\n",
      "2  2015-07-01 22:27:34  0.0715\n",
      "3  2015-07-01 22:34:37  0.0720\n",
      "4  2015-07-01 22:41:42  0.0721\n",
      "date_time     object\n",
      "price        float64\n",
      "dtype: object\n"
     ]
    }
   ],
   "source": [
    "print df.head()\n",
    "print df.dtypes"
   ]
  },
  {
   "cell_type": "code",
   "execution_count": 6,
   "metadata": {
    "collapsed": true
   },
   "outputs": [],
   "source": [
    "#Change 'date_time' to a datetime type\n",
    "df['date_time'] = df['date_time'].apply(lambda x: pd.to_datetime(x))"
   ]
  },
  {
   "cell_type": "code",
   "execution_count": 7,
   "metadata": {
    "collapsed": false
   },
   "outputs": [
    {
     "name": "stdout",
     "output_type": "stream",
     "text": [
      "            date_time   price\n",
      "0 2015-07-01 22:12:56  0.0718\n",
      "1 2015-07-01 22:22:43  0.0717\n",
      "2 2015-07-01 22:27:34  0.0715\n",
      "3 2015-07-01 22:34:37  0.0720\n",
      "4 2015-07-01 22:41:42  0.0721\n",
      "date_time    datetime64[ns]\n",
      "price               float64\n",
      "dtype: object\n"
     ]
    }
   ],
   "source": [
    "print df.head()\n",
    "print df.dtypes"
   ]
  },
  {
   "cell_type": "code",
   "execution_count": 8,
   "metadata": {
    "collapsed": false
   },
   "outputs": [],
   "source": [
    "#Make 'date_time' the index\n",
    "df = df.set_index('date_time')"
   ]
  },
  {
   "cell_type": "code",
   "execution_count": 9,
   "metadata": {
    "collapsed": false
   },
   "outputs": [
    {
     "data": {
      "text/plain": [
       "DatetimeIndex(['2015-07-01 22:12:56', '2015-07-01 22:22:43',\n",
       "               '2015-07-01 22:27:34', '2015-07-01 22:34:37',\n",
       "               '2015-07-01 22:41:42', '2015-07-01 22:46:23',\n",
       "               '2015-07-01 22:51:08', '2015-07-01 22:55:57',\n",
       "               '2015-07-01 23:00:53', '2015-07-01 23:05:53',\n",
       "               ...\n",
       "               '2017-02-11 21:52:02', '2017-02-11 22:00:02',\n",
       "               '2017-02-11 22:06:02', '2017-02-11 22:13:02',\n",
       "               '2017-02-11 22:13:32', '2017-02-11 22:15:02',\n",
       "               '2017-02-11 22:18:53', '2017-02-11 22:22:08',\n",
       "               '2017-02-11 22:24:05', '2017-02-11 22:25:02'],\n",
       "              dtype='datetime64[ns]', name=u'date_time', length=78841, freq=None)"
      ]
     },
     "execution_count": 9,
     "metadata": {},
     "output_type": "execute_result"
    }
   ],
   "source": [
    "df.index"
   ]
  },
  {
   "cell_type": "code",
   "execution_count": 10,
   "metadata": {
    "collapsed": false
   },
   "outputs": [],
   "source": [
    "#Make sure the index is sorted apporpriately\n",
    "df = df.sort_index()"
   ]
  },
  {
   "cell_type": "code",
   "execution_count": 11,
   "metadata": {
    "collapsed": false
   },
   "outputs": [
    {
     "data": {
      "text/plain": [
       "True"
      ]
     },
     "execution_count": 11,
     "metadata": {},
     "output_type": "execute_result"
    }
   ],
   "source": [
    "df.index.is_monotonic_increasing"
   ]
  },
  {
   "cell_type": "code",
   "execution_count": 12,
   "metadata": {
    "collapsed": false
   },
   "outputs": [
    {
     "name": "stdout",
     "output_type": "stream",
     "text": [
      "                     price\n",
      "date_time                 \n",
      "2013-11-14 16:48:58  0.128\n",
      "2013-11-14 17:53:48  0.203\n",
      "2013-11-15 00:43:19  0.128\n",
      "2013-11-15 19:40:45  0.203\n",
      "2013-11-15 20:59:02  0.128\n"
     ]
    }
   ],
   "source": [
    "print df.head()"
   ]
  },
  {
   "cell_type": "code",
   "execution_count": 13,
   "metadata": {
    "collapsed": true
   },
   "outputs": [],
   "source": [
    "#Create new columns: replicate index in one, shift the times in another, take the difference of the 2 in the third\n",
    "#All in an effort to create constant time by getting a better understanding of time between updates\n",
    "#At first look, it seems earlier data is sporadic and has large gaps between updates, may have to drop\n",
    "df['dt'] = df.index"
   ]
  },
  {
   "cell_type": "code",
   "execution_count": 14,
   "metadata": {
    "collapsed": true
   },
   "outputs": [],
   "source": [
    "#Grabs the 'dt' column and advances each value up so that index[0] in 'dt' is index[1] in 'dt_shift', so on and so \n",
    "#forth\n",
    "df['dt_shift'] = df['dt'].shift(1)"
   ]
  },
  {
   "cell_type": "code",
   "execution_count": 15,
   "metadata": {
    "collapsed": true
   },
   "outputs": [],
   "source": [
    "#Take the difference between 'dt' and 'dt_shift'\n",
    "df['time_diff'] = df['dt'] - df['dt_shift']"
   ]
  },
  {
   "cell_type": "code",
   "execution_count": 16,
   "metadata": {
    "collapsed": false
   },
   "outputs": [
    {
     "name": "stdout",
     "output_type": "stream",
     "text": [
      "                     price                  dt            dt_shift  time_diff\n",
      "date_time                                                                    \n",
      "2013-11-14 16:48:58  0.128 2013-11-14 16:48:58                 NaT        NaT\n",
      "2013-11-14 17:53:48  0.203 2013-11-14 17:53:48 2013-11-14 16:48:58   01:04:50\n",
      "2013-11-15 00:43:19  0.128 2013-11-15 00:43:19 2013-11-14 17:53:48   06:49:31\n",
      "2013-11-15 19:40:45  0.203 2013-11-15 19:40:45 2013-11-15 00:43:19   18:57:26\n",
      "2013-11-15 20:59:02  0.128 2013-11-15 20:59:02 2013-11-15 19:40:45   01:18:17\n",
      "price                float64\n",
      "dt            datetime64[ns]\n",
      "dt_shift      datetime64[ns]\n",
      "time_diff    timedelta64[ns]\n",
      "dtype: object\n"
     ]
    }
   ],
   "source": [
    "print df.head()\n",
    "print df.dtypes"
   ]
  },
  {
   "cell_type": "code",
   "execution_count": 17,
   "metadata": {
    "collapsed": false
   },
   "outputs": [
    {
     "data": {
      "text/plain": [
       "count                     78840\n",
       "mean     0 days 00:21:38.885895\n",
       "std      0 days 16:35:18.902522\n",
       "min             0 days 00:00:02\n",
       "25%             0 days 00:00:47\n",
       "50%             0 days 00:03:10\n",
       "75%             0 days 00:05:04\n",
       "max           148 days 12:32:40\n",
       "Name: time_diff, dtype: object"
      ]
     },
     "execution_count": 17,
     "metadata": {},
     "output_type": "execute_result"
    }
   ],
   "source": [
    "df.time_diff.describe()"
   ]
  },
  {
   "cell_type": "code",
   "execution_count": 18,
   "metadata": {
    "collapsed": false,
    "scrolled": true
   },
   "outputs": [
    {
     "data": {
      "text/html": [
       "<div>\n",
       "<table border=\"1\" class=\"dataframe\">\n",
       "  <thead>\n",
       "    <tr style=\"text-align: right;\">\n",
       "      <th></th>\n",
       "      <th>price</th>\n",
       "      <th>dt</th>\n",
       "      <th>dt_shift</th>\n",
       "      <th>time_diff</th>\n",
       "    </tr>\n",
       "    <tr>\n",
       "      <th>date_time</th>\n",
       "      <th></th>\n",
       "      <th></th>\n",
       "      <th></th>\n",
       "      <th></th>\n",
       "    </tr>\n",
       "  </thead>\n",
       "  <tbody>\n",
       "    <tr>\n",
       "      <th>2013-11-14 17:53:48</th>\n",
       "      <td>0.203</td>\n",
       "      <td>2013-11-14 17:53:48</td>\n",
       "      <td>2013-11-14 16:48:58</td>\n",
       "      <td>01:04:50</td>\n",
       "    </tr>\n",
       "    <tr>\n",
       "      <th>2013-11-15 00:43:19</th>\n",
       "      <td>0.128</td>\n",
       "      <td>2013-11-15 00:43:19</td>\n",
       "      <td>2013-11-14 17:53:48</td>\n",
       "      <td>06:49:31</td>\n",
       "    </tr>\n",
       "    <tr>\n",
       "      <th>2013-11-15 19:40:45</th>\n",
       "      <td>0.203</td>\n",
       "      <td>2013-11-15 19:40:45</td>\n",
       "      <td>2013-11-15 00:43:19</td>\n",
       "      <td>18:57:26</td>\n",
       "    </tr>\n",
       "  </tbody>\n",
       "</table>\n",
       "</div>"
      ],
      "text/plain": [
       "                     price                  dt            dt_shift  time_diff\n",
       "date_time                                                                    \n",
       "2013-11-14 17:53:48  0.203 2013-11-14 17:53:48 2013-11-14 16:48:58   01:04:50\n",
       "2013-11-15 00:43:19  0.128 2013-11-15 00:43:19 2013-11-14 17:53:48   06:49:31\n",
       "2013-11-15 19:40:45  0.203 2013-11-15 19:40:45 2013-11-15 00:43:19   18:57:26"
      ]
     },
     "execution_count": 18,
     "metadata": {},
     "output_type": "execute_result"
    }
   ],
   "source": [
    "#That max is a little scary... lets see where that lands\n",
    "#ANSWER: between 11/15 and 04/16\n",
    "import time\n",
    "from datetime import date, timedelta\n",
    "\n",
    "x = timedelta(days=0)\n",
    "\n",
    "df[df['time_diff'] > x].head(3)"
   ]
  },
  {
   "cell_type": "code",
   "execution_count": 19,
   "metadata": {
    "collapsed": false,
    "scrolled": true
   },
   "outputs": [],
   "source": [
    "#resample method = performs a frequency conversion of time series data, resampling it to constant intervals\n",
    "#pad method = forward fills the data to the next change\n",
    "#http://pandas.pydata.org/pandas-docs/stable/timeseries.html#offset-aliases\n",
    "\n",
    "prod = df.resample('W').pad()"
   ]
  },
  {
   "cell_type": "code",
   "execution_count": 20,
   "metadata": {
    "collapsed": false
   },
   "outputs": [
    {
     "data": {
      "text/plain": [
       "count    170.000000\n",
       "mean       0.104396\n",
       "std        0.096644\n",
       "min        0.064100\n",
       "25%        0.068700\n",
       "50%        0.073050\n",
       "75%        0.104075\n",
       "max        0.750000\n",
       "Name: price, dtype: float64"
      ]
     },
     "execution_count": 20,
     "metadata": {},
     "output_type": "execute_result"
    }
   ],
   "source": [
    "prod.price.describe()\n"
   ]
  },
  {
   "cell_type": "code",
   "execution_count": 21,
   "metadata": {
    "collapsed": false
   },
   "outputs": [
    {
     "data": {
      "text/plain": [
       "date_time\n",
       "2013-11-17    0.128\n",
       "2013-11-24    0.128\n",
       "2013-12-01    0.151\n",
       "2013-12-08    0.250\n",
       "2013-12-15    0.203\n",
       "Freq: W-SUN, Name: price, dtype: float64"
      ]
     },
     "execution_count": 21,
     "metadata": {},
     "output_type": "execute_result"
    }
   ],
   "source": [
    "prod.price.head()\n"
   ]
  },
  {
   "cell_type": "code",
   "execution_count": 22,
   "metadata": {
    "collapsed": false
   },
   "outputs": [
    {
     "data": {
      "text/html": [
       "<div>\n",
       "<table border=\"1\" class=\"dataframe\">\n",
       "  <thead>\n",
       "    <tr style=\"text-align: right;\">\n",
       "      <th></th>\n",
       "      <th>price</th>\n",
       "      <th>dt</th>\n",
       "      <th>dt_shift</th>\n",
       "      <th>time_diff</th>\n",
       "    </tr>\n",
       "    <tr>\n",
       "      <th>date_time</th>\n",
       "      <th></th>\n",
       "      <th></th>\n",
       "      <th></th>\n",
       "      <th></th>\n",
       "    </tr>\n",
       "  </thead>\n",
       "  <tbody>\n",
       "  </tbody>\n",
       "</table>\n",
       "</div>"
      ],
      "text/plain": [
       "Empty DataFrame\n",
       "Columns: [price, dt, dt_shift, time_diff]\n",
       "Index: []"
      ]
     },
     "execution_count": 22,
     "metadata": {},
     "output_type": "execute_result"
    }
   ],
   "source": [
    "prod[prod['price'] > 1.00]"
   ]
  },
  {
   "cell_type": "code",
   "execution_count": 23,
   "metadata": {
    "collapsed": false
   },
   "outputs": [
    {
     "name": "stdout",
     "output_type": "stream",
     "text": [
      "ADF Statistic: -5.418177\n",
      "p-value: 0.000003\n",
      "Critical Values:\n",
      "\t5%: -2.930\n",
      "\t1%: -3.589\n",
      "\t10%: -2.603\n"
     ]
    }
   ],
   "source": [
    "from statsmodels.tsa.stattools import adfuller\n",
    "\n",
    "#The null hypothesis is that the data is time dependent (non-stationary)\n",
    "#The test stat is signifficantly lower than the critical values, meaning we can reject the null and our data is stationary\n",
    "#No need to take log of\n",
    "\n",
    "X = prod.price['2016-04-04':]\n",
    "result = adfuller(X, 1) #max lag of 1\n",
    "print('ADF Statistic: %f' % result[0])\n",
    "print('p-value: %f' % result[1])\n",
    "print('Critical Values:')\n",
    "for key, value in result[4].items():\n",
    "    print('\\t%s: %.3f' % (key, value))"
   ]
  },
  {
   "cell_type": "code",
   "execution_count": 24,
   "metadata": {
    "collapsed": false,
    "scrolled": true
   },
   "outputs": [
    {
     "name": "stdout",
     "output_type": "stream",
     "text": [
      "[<matplotlib.lines.Line2D object at 0x119fd4ad0>]\n",
      "[<matplotlib.lines.Line2D object at 0x11a018550>]\n",
      "[<matplotlib.lines.Line2D object at 0x11a018c50>]\n",
      "[<matplotlib.lines.Line2D object at 0x11a033290>]\n",
      "[<matplotlib.lines.Line2D object at 0x11a0338d0>]\n"
     ]
    },
    {
     "data": {
      "image/png": "[encoded data removed]",
      "text/plain": [
       "<matplotlib.figure.Figure at 0x11681cfd0>"
      ]
     },
     "metadata": {},
     "output_type": "display_data"
    }
   ],
   "source": [
    "###Graph of prices taking the weekly mean... still no visual of non-stationarity\n",
    "\n",
    "\n",
    "print plt.plot(prod.price['2013'])\n",
    "print plt.plot(prod.price['2014'])\n",
    "print plt.plot(prod.price['2015'])\n",
    "print plt.plot(prod.price['2016'])\n",
    "print plt.plot(prod.price['2017'])\n",
    "#There appears to have no trend but large spikes suggesting an MA model would be most effective\n",
    "#Additionally, there appears to be a right skew in the price distribution given the large spikes with flat lines between\n",
    "#Take square root of the prices to negate the spikes (right skew)?\n",
    "#Also, there might be some seasonality with spikes after/around 1st quarter of year and more so at mid year\n",
    "#shrink down to find trends"
   ]
  },
  {
   "cell_type": "code",
   "execution_count": 25,
   "metadata": {
    "collapsed": false
   },
   "outputs": [],
   "source": [
    "#THE AMOUNT OF MISSING DATA DOESN'T SEEM TO BE AS BAD AS INITIALLY THOUGHT (SEE SANITY CHECK IN 'EDA CODE' FILE)\n",
    "#GOING TO USE ENTIRE DATA SET"
   ]
  },
  {
   "cell_type": "code",
   "execution_count": 26,
   "metadata": {
    "collapsed": true
   },
   "outputs": [],
   "source": [
    "#Started with 5 minute resampling but there was zero relationships to be seen\n",
    "#The weekly data is the shortest period when we start seeing a measurable relationship\n",
    "#Moving forward with the weekly data for this specific availibility zone\n",
    "\n",
    "data = df.resample('W').pad()\n",
    "train = data.price[:'2016-11-29']\n",
    "test = data.price['2016-11-30':]"
   ]
  },
  {
   "cell_type": "code",
   "execution_count": 27,
   "metadata": {
    "collapsed": false
   },
   "outputs": [
    {
     "name": "stdout",
     "output_type": "stream",
     "text": [
      "(170, 4)\n",
      "(159,)\n",
      "(11,)\n"
     ]
    }
   ],
   "source": [
    "print data.shape\n",
    "print train.shape\n",
    "print test.shape"
   ]
  },
  {
   "cell_type": "code",
   "execution_count": 28,
   "metadata": {
    "collapsed": false
   },
   "outputs": [
    {
     "data": {
      "text/plain": [
       "<matplotlib.axes._subplots.AxesSubplot at 0x11a06c650>"
      ]
     },
     "execution_count": 28,
     "metadata": {},
     "output_type": "execute_result"
    },
    {
     "data": {
      "image/png": "[encoded data removed]",
      "text/plain": [
       "<matplotlib.figure.Figure at 0x115a4ca50>"
      ]
     },
     "metadata": {},
     "output_type": "display_data"
    }
   ],
   "source": [
    "pd.tools.plotting.autocorrelation_plot(train)\n"
   ]
  },
  {
   "cell_type": "code",
   "execution_count": 29,
   "metadata": {
    "collapsed": true
   },
   "outputs": [],
   "source": [
    "from statsmodels.graphics.tsaplots import plot_acf, plot_pacf\n"
   ]
  },
  {
   "cell_type": "code",
   "execution_count": 30,
   "metadata": {
    "collapsed": false
   },
   "outputs": [
    {
     "name": "stdout",
     "output_type": "stream",
     "text": [
      "Figure(432x288)\n"
     ]
    },
    {
     "data": {
      "image/png": "[encoded data removed]",
      "text/plain": [
       "<matplotlib.figure.Figure at 0x11a187a90>"
      ]
     },
     "metadata": {},
     "output_type": "display_data"
    }
   ],
   "source": [
    "print plot_acf(train, lags=8)"
   ]
  },
  {
   "cell_type": "code",
   "execution_count": 31,
   "metadata": {
    "collapsed": false
   },
   "outputs": [
    {
     "name": "stdout",
     "output_type": "stream",
     "text": [
      "Figure(432x288)\n"
     ]
    },
    {
     "data": {
      "image/png": "[encoded data removed]",
      "text/plain": [
       "<matplotlib.figure.Figure at 0x1168a3d10>"
      ]
     },
     "metadata": {},
     "output_type": "display_data"
    }
   ],
   "source": [
    "print plot_pacf(train, lags=8)"
   ]
  },
  {
   "cell_type": "code",
   "execution_count": 32,
   "metadata": {
    "collapsed": false
   },
   "outputs": [],
   "source": [
    "from statsmodels.tsa.arima_model import ARIMA\n",
    "\n",
    "model = ARIMA(train, (2, 0, 4)).fit()"
   ]
  },
  {
   "cell_type": "code",
   "execution_count": 33,
   "metadata": {
    "collapsed": false
   },
   "outputs": [
    {
     "name": "stdout",
     "output_type": "stream",
     "text": [
      "                              ARMA Model Results                              \n",
      "==============================================================================\n",
      "Dep. Variable:                  price   No. Observations:                  159\n",
      "Model:                     ARMA(2, 4)   Log Likelihood                 179.215\n",
      "Method:                       css-mle   S.D. of innovations              0.078\n",
      "Date:                Thu, 15 Jun 2017   AIC                           -342.429\n",
      "Time:                        21:15:57   BIC                           -317.878\n",
      "Sample:                    11-17-2013   HQIC                          -332.459\n",
      "                         - 11-27-2016                                         \n",
      "===============================================================================\n",
      "                  coef    std err          z      P>|z|      [95.0% Conf. Int.]\n",
      "-------------------------------------------------------------------------------\n",
      "const           0.1123      0.026      4.364      0.000         0.062     0.163\n",
      "ar.L1.price    -0.0330      0.073     -0.455      0.650        -0.175     0.109\n",
      "ar.L2.price     0.8655      0.074     11.624      0.000         0.720     1.011\n",
      "ma.L1.price     0.6583      0.101      6.538      0.000         0.461     0.856\n",
      "ma.L2.price    -0.7378      0.139     -5.301      0.000        -1.011    -0.465\n",
      "ma.L3.price    -0.4329      0.098     -4.414      0.000        -0.625    -0.241\n",
      "ma.L4.price     0.2332      0.087      2.692      0.008         0.063     0.403\n",
      "                                    Roots                                    \n",
      "=============================================================================\n",
      "                 Real           Imaginary           Modulus         Frequency\n",
      "-----------------------------------------------------------------------------\n",
      "AR.1           -1.0560           +0.0000j            1.0560            0.5000\n",
      "AR.2            1.0941           +0.0000j            1.0941            0.0000\n",
      "MA.1           -1.0224           -0.3676j            1.0865           -0.4451\n",
      "MA.2           -1.0224           +0.3676j            1.0865            0.4451\n",
      "MA.3            1.5355           -0.0000j            1.5355           -0.0000\n",
      "MA.4            2.3662           -0.0000j            2.3662           -0.0000\n",
      "-----------------------------------------------------------------------------\n"
     ]
    }
   ],
   "source": [
    "print model.summary()"
   ]
  },
  {
   "cell_type": "code",
   "execution_count": 34,
   "metadata": {
    "collapsed": false
   },
   "outputs": [
    {
     "name": "stdout",
     "output_type": "stream",
     "text": [
      "Figure(432x288)\n"
     ]
    },
    {
     "name": "stderr",
     "output_type": "stream",
     "text": [
      "/Users/michaelbecker/anaconda2/lib/python2.7/site-packages/statsmodels/tsa/arima_model.py:1724: FutureWarning: TimeSeries is deprecated. Please use Series\n",
      "  forecast = TimeSeries(forecast, index=self.data.predict_dates)\n"
     ]
    },
    {
     "data": {
      "image/png": "[encoded data removed]",
      "text/plain": [
       "<matplotlib.figure.Figure at 0x11a2d8f50>"
      ]
     },
     "metadata": {},
     "output_type": "display_data"
    }
   ],
   "source": [
    "\n",
    "figure = model.plot_predict(1, 170)\n",
    "print figure"
   ]
  },
  {
   "cell_type": "code",
   "execution_count": 35,
   "metadata": {
    "collapsed": false
   },
   "outputs": [
    {
     "data": {
      "image/png": "[encoded data removed]",
      "text/plain": [
       "<matplotlib.figure.Figure at 0x11a27ae90>"
      ]
     },
     "metadata": {},
     "output_type": "display_data"
    },
    {
     "data": {
      "image/png": "[encoded data removed]",
      "text/plain": [
       "<matplotlib.figure.Figure at 0x11d007750>"
      ]
     },
     "metadata": {},
     "output_type": "display_data"
    },
    {
     "name": "stdout",
     "output_type": "stream",
     "text": [
      "count    159.000000\n",
      "mean      -0.001363\n",
      "std        0.081759\n",
      "min       -0.284939\n",
      "25%       -0.020007\n",
      "50%       -0.008691\n",
      "75%        0.012131\n",
      "max        0.589743\n",
      "dtype: float64\n"
     ]
    }
   ],
   "source": [
    "residuals = model.resid\n",
    "residuals.plot()\n",
    "plt.show()\n",
    "residuals.plot(kind='kde')\n",
    "plt.show()\n",
    "print(residuals.describe())"
   ]
  },
  {
   "cell_type": "code",
   "execution_count": 36,
   "metadata": {
    "collapsed": false
   },
   "outputs": [
    {
     "name": "stdout",
     "output_type": "stream",
     "text": [
      "Figure(432x288)\n",
      "Figure(432x288)\n"
     ]
    },
    {
     "data": {
      "image/png": "[encoded data removed]",
      "text/plain": [
       "<matplotlib.figure.Figure at 0x11d442710>"
      ]
     },
     "metadata": {},
     "output_type": "display_data"
    },
    {
     "data": {
      "image/png": "[encoded data removed]",
      "text/plain": [
       "<matplotlib.figure.Figure at 0x11a09bed0>"
      ]
     },
     "metadata": {},
     "output_type": "display_data"
    }
   ],
   "source": [
    "\n",
    "print plot_acf(model.resid, lags=28)\n",
    "#Decays to zero and hugs the line, suggesting residuals are not correlated\n",
    "print plot_pacf(model.resid, lags=28)"
   ]
  },
  {
   "cell_type": "code",
   "execution_count": 37,
   "metadata": {
    "collapsed": true
   },
   "outputs": [],
   "source": [
    "from sklearn.metrics import mean_squared_error\n",
    "from sklearn.metrics import mean_absolute_error"
   ]
  },
  {
   "cell_type": "code",
   "execution_count": 38,
   "metadata": {
    "collapsed": false
   },
   "outputs": [
    {
     "name": "stdout",
     "output_type": "stream",
     "text": [
      "predicted=0.111419, expected=0.108200\n",
      "predicted=0.094866, expected=0.073200\n",
      "predicted=0.110185, expected=0.076200\n",
      "predicted=0.071391, expected=0.076200\n",
      "predicted=0.118637, expected=0.076200\n",
      "predicted=0.060125, expected=0.091400\n",
      "predicted=0.122951, expected=0.086100\n",
      "predicted=0.067129, expected=0.085900\n",
      "predicted=0.106393, expected=0.085900\n",
      "predicted=0.085381, expected=0.087800\n",
      "predicted=0.090230, expected=0.086300\n",
      "Test MSE: 0.001\n",
      "Test RMSE: 0.024\n",
      "Test MAE: 0.020\n"
     ]
    }
   ],
   "source": [
    "history = [x for x in train] #takes train and builds a model, then appends the 'obs' to roll history onwards\n",
    "predictions = list()\n",
    "for t in range(len(test)):\n",
    "    model = ARIMA(history, order=(2,0,4)) #model is called with params of above\n",
    "    model_fit = model.fit(disp=0) #model is fit just as above\n",
    "    output = model_fit.forecast()\n",
    "    yhat = output[0]\n",
    "    predictions.append(yhat)\n",
    "    obs = test[t]\n",
    "    history.append(obs)\n",
    "    print('predicted=%f, expected=%f' % (yhat, obs))\n",
    "error = mean_squared_error(test, predictions)\n",
    "error1 = mean_absolute_error(test, predictions)\n",
    "print('Test MSE: %.3f' % error)\n",
    "print('Test RMSE: %.3f' % error**(0.5))\n",
    "print('Test MAE: %.3f' % error1)"
   ]
  },
  {
   "cell_type": "code",
   "execution_count": 39,
   "metadata": {
    "collapsed": false
   },
   "outputs": [
    {
     "data": {
      "image/png": "[encoded data removed]",
      "text/plain": [
       "<matplotlib.figure.Figure at 0x11ddd6050>"
      ]
     },
     "metadata": {},
     "output_type": "display_data"
    }
   ],
   "source": [
    "plt.plot(list(test))\n",
    "plt.plot(predictions, color='red')\n",
    "plt.show()"
   ]
  },
  {
   "cell_type": "code",
   "execution_count": null,
   "metadata": {
    "collapsed": true
   },
   "outputs": [],
   "source": []
  }
 ],
 "metadata": {
  "kernelspec": {
   "display_name": "Python 2",
   "language": "python",
   "name": "python2"
  },
  "language_info": {
   "codemirror_mode": {
    "name": "ipython",
    "version": 2
   },
   "file_extension": ".py",
   "mimetype": "text/x-python",
   "name": "python",
   "nbconvert_exporter": "python",
   "pygments_lexer": "ipython2",
   "version": "2.7.13"
  }
 },
 "nbformat": 4,
 "nbformat_minor": 2
}
