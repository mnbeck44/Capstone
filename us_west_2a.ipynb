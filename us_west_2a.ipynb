{
 "cells": [
  {
   "cell_type": "code",
   "execution_count": 1,
   "metadata": {
    "collapsed": false
   },
   "outputs": [],
   "source": [
    "import pandas as pd\n",
    "import numpy as np\n",
    "import matplotlib.pylab as plt\n",
    "%matplotlib inline\n",
    "from sqlalchemy import create_engine\n",
    "import time\n",
    "from datetime import date, timedelta\n",
    "\n",
    "engine = create_engine('postgresql://michaelbecker@localhost:5432/spotdb')"
   ]
  },
  {
   "cell_type": "code",
   "execution_count": 4,
   "metadata": {
    "collapsed": false
   },
   "outputs": [],
   "source": [
    "c = engine.connect()"
   ]
  },
  {
   "cell_type": "code",
   "execution_count": 5,
   "metadata": {
    "collapsed": false
   },
   "outputs": [
    {
     "name": "stdout",
     "output_type": "stream",
     "text": [
      "SELECT date_time, price FROM all_spot WHERE zone='us-west-2a' AND type='c3.2xlarge' AND os='Linux/UNIX (Amazon VPC)';\n"
     ]
    }
   ],
   "source": [
    "sql_str = \"SELECT date_time, price FROM all_spot WHERE zone='us-west-2a' AND type='c3.2xlarge' AND os='Linux/UNIX (Amazon VPC)';\"\n",
    "print sql_str"
   ]
  },
  {
   "cell_type": "code",
   "execution_count": 6,
   "metadata": {
    "collapsed": true
   },
   "outputs": [],
   "source": [
    "df = pd.read_sql(sql_str, c)"
   ]
  },
  {
   "cell_type": "code",
   "execution_count": 7,
   "metadata": {
    "collapsed": false,
    "scrolled": true
   },
   "outputs": [
    {
     "name": "stdout",
     "output_type": "stream",
     "text": [
      "             date_time   price\n",
      "0  2015-07-01 22:46:23  0.0781\n",
      "1  2015-07-01 22:51:08  0.0791\n",
      "2  2015-07-01 22:55:57  0.0683\n",
      "3  2015-07-01 23:00:53  0.0682\n",
      "4  2015-07-01 23:05:53  0.0681\n",
      "date_time     object\n",
      "price        float64\n",
      "dtype: object\n"
     ]
    }
   ],
   "source": [
    "print df.head()\n",
    "print df.dtypes"
   ]
  },
  {
   "cell_type": "code",
   "execution_count": 8,
   "metadata": {
    "collapsed": true
   },
   "outputs": [],
   "source": [
    "#Change 'date_time' to a datetime type\n",
    "df['date_time'] = df['date_time'].apply(lambda x: pd.to_datetime(x))"
   ]
  },
  {
   "cell_type": "code",
   "execution_count": 9,
   "metadata": {
    "collapsed": false
   },
   "outputs": [
    {
     "name": "stdout",
     "output_type": "stream",
     "text": [
      "            date_time   price\n",
      "0 2015-07-01 22:46:23  0.0781\n",
      "1 2015-07-01 22:51:08  0.0791\n",
      "2 2015-07-01 22:55:57  0.0683\n",
      "3 2015-07-01 23:00:53  0.0682\n",
      "4 2015-07-01 23:05:53  0.0681\n",
      "date_time    datetime64[ns]\n",
      "price               float64\n",
      "dtype: object\n",
      "(78705, 2)\n"
     ]
    }
   ],
   "source": [
    "print df.head()\n",
    "print df.dtypes\n",
    "print df.shape"
   ]
  },
  {
   "cell_type": "code",
   "execution_count": 10,
   "metadata": {
    "collapsed": true
   },
   "outputs": [],
   "source": [
    "#Make 'date_time' the index\n",
    "df = df.set_index('date_time')"
   ]
  },
  {
   "cell_type": "code",
   "execution_count": 11,
   "metadata": {
    "collapsed": false
   },
   "outputs": [
    {
     "data": {
      "text/plain": [
       "DatetimeIndex(['2015-07-01 22:46:23', '2015-07-01 22:51:08',\n",
       "               '2015-07-01 22:55:57', '2015-07-01 23:00:53',\n",
       "               '2015-07-01 23:05:53', '2015-07-01 23:10:23',\n",
       "               '2015-07-01 23:15:11', '2015-07-01 23:19:55',\n",
       "               '2015-07-01 23:37:02', '2015-07-01 23:46:51',\n",
       "               ...\n",
       "               '2017-02-11 22:51:59', '2017-02-11 22:52:02',\n",
       "               '2017-02-11 23:02:20', '2017-02-11 23:05:02',\n",
       "               '2017-02-11 23:09:05', '2017-02-11 23:25:14',\n",
       "               '2017-02-11 23:28:02', '2017-02-11 23:35:02',\n",
       "               '2017-02-11 23:41:56', '2017-02-11 23:45:02'],\n",
       "              dtype='datetime64[ns]', name=u'date_time', length=78705, freq=None)"
      ]
     },
     "execution_count": 11,
     "metadata": {},
     "output_type": "execute_result"
    }
   ],
   "source": [
    "df.index"
   ]
  },
  {
   "cell_type": "code",
   "execution_count": 12,
   "metadata": {
    "collapsed": false
   },
   "outputs": [],
   "source": [
    "#Make sure the index is sorted apporpriately\n",
    "df = df.sort_index()"
   ]
  },
  {
   "cell_type": "code",
   "execution_count": 13,
   "metadata": {
    "collapsed": false
   },
   "outputs": [
    {
     "data": {
      "text/plain": [
       "True"
      ]
     },
     "execution_count": 13,
     "metadata": {},
     "output_type": "execute_result"
    }
   ],
   "source": [
    "df.index.is_monotonic_increasing"
   ]
  },
  {
   "cell_type": "code",
   "execution_count": 14,
   "metadata": {
    "collapsed": false
   },
   "outputs": [
    {
     "name": "stdout",
     "output_type": "stream",
     "text": [
      "                     price\n",
      "date_time                 \n",
      "2013-11-14 16:48:58  0.203\n",
      "2013-11-15 16:49:44  0.203\n",
      "2013-11-16 16:51:52  0.203\n",
      "2013-11-17 16:53:50  0.203\n",
      "2013-11-18 16:54:57  0.203\n"
     ]
    }
   ],
   "source": [
    "print df.head()"
   ]
  },
  {
   "cell_type": "code",
   "execution_count": 15,
   "metadata": {
    "collapsed": false,
    "scrolled": true
   },
   "outputs": [],
   "source": [
    "#resample method = performs a frequency conversion of time series data, resampling it to constant intervals\n",
    "#pad method = forward fills the data to the next change\n",
    "#http://pandas.pydata.org/pandas-docs/stable/timeseries.html#offset-aliases\n",
    "\n",
    "prod = df.resample('W').pad()"
   ]
  },
  {
   "cell_type": "code",
   "execution_count": 16,
   "metadata": {
    "collapsed": false
   },
   "outputs": [
    {
     "data": {
      "text/plain": [
       "count    170.000000\n",
       "mean       0.094806\n",
       "std        0.068052\n",
       "min        0.064100\n",
       "25%        0.066425\n",
       "50%        0.069600\n",
       "75%        0.096675\n",
       "max        0.600000\n",
       "Name: price, dtype: float64"
      ]
     },
     "execution_count": 16,
     "metadata": {},
     "output_type": "execute_result"
    }
   ],
   "source": [
    "prod.price.describe()\n"
   ]
  },
  {
   "cell_type": "code",
   "execution_count": 17,
   "metadata": {
    "collapsed": false
   },
   "outputs": [
    {
     "data": {
      "text/plain": [
       "date_time\n",
       "2013-11-17    0.203\n",
       "2013-11-24    0.128\n",
       "2013-12-01    0.203\n",
       "2013-12-08    0.250\n",
       "2013-12-15    0.128\n",
       "Freq: W-SUN, Name: price, dtype: float64"
      ]
     },
     "execution_count": 17,
     "metadata": {},
     "output_type": "execute_result"
    }
   ],
   "source": [
    "prod.price.head()\n"
   ]
  },
  {
   "cell_type": "code",
   "execution_count": 51,
   "metadata": {
    "collapsed": false
   },
   "outputs": [
    {
     "name": "stdout",
     "output_type": "stream",
     "text": [
      "ADF Statistic: -3.036242\n",
      "p-value: 0.031646\n",
      "Critical Values:\n",
      "\t5%: -2.930\n",
      "\t1%: -3.589\n",
      "\t10%: -2.603\n"
     ]
    }
   ],
   "source": [
    "from statsmodels.tsa.stattools import adfuller\n",
    "\n",
    "#The null hypoithesis is that the data is time dependent (non-stationary)\n",
    "#The test stat is signifficantly lower than the critical values, meaning we can reject the null and our data is stationary\n",
    "#No need to to take log of\n",
    "\n",
    "X = prod.price['2016-04-04':]\n",
    "result = adfuller(X, 1) #max lag of 1\n",
    "print('ADF Statistic: %f' % result[0])\n",
    "print('p-value: %f' % result[1])\n",
    "print('Critical Values:')\n",
    "for key, value in result[4].items():\n",
    "    print('\\t%s: %.3f' % (key, value))"
   ]
  },
  {
   "cell_type": "code",
   "execution_count": 52,
   "metadata": {
    "collapsed": false
   },
   "outputs": [
    {
     "name": "stdout",
     "output_type": "stream",
     "text": [
      "[<matplotlib.lines.Line2D object at 0x117939650>]\n",
      "[<matplotlib.lines.Line2D object at 0x118c2edd0>]\n"
     ]
    },
    {
     "data": {
      "image/png": "[encoded data removed]",
      "text/plain": [
       "<matplotlib.figure.Figure at 0x118c25d10>"
      ]
     },
     "metadata": {},
     "output_type": "display_data"
    }
   ],
   "source": [
    "###Graph of prices taking the weekly mean... still no visual of non-stationarity\n",
    "\n",
    "\n",
    "# print plt.plot(prod.price['2013'])\n",
    "# print plt.plot(prod.price['2014'])\n",
    "# print plt.plot(prod.price['2015'])\n",
    "print plt.plot(prod.price['2016'])\n",
    "print plt.plot(prod.price['2017'])\n",
    "#There appears to have no trend but large spikes suggesting an MA model would be most effective\n",
    "#Additionally, there appears to be a right skew in the price distribution given the large spikes with flat lines between\n",
    "#Take square root of the prices to negate the spikes (right skew)\n",
    "#Also, there might be some seasonality with spikes after/around 1st quarter of year and more so at mid year\n",
    "#shrink down to find trends"
   ]
  },
  {
   "cell_type": "code",
   "execution_count": 20,
   "metadata": {
    "collapsed": true
   },
   "outputs": [],
   "source": [
    "#Started with 5 minute resampling but there was zero relationships to be seen\n",
    "#The weekly data is the shortest period when we start seeing a measurable relationship\n",
    "#Moving forward with the weekldata for this specific availibility zone\n",
    "\n",
    "data = df.resample('W').pad()\n",
    "train = data.price[:'2016-11-29']\n",
    "test = data.price['2016-11-30':]"
   ]
  },
  {
   "cell_type": "code",
   "execution_count": 21,
   "metadata": {
    "collapsed": false
   },
   "outputs": [
    {
     "name": "stdout",
     "output_type": "stream",
     "text": [
      "(170, 1)\n",
      "(159,)\n",
      "(11,)\n"
     ]
    }
   ],
   "source": [
    "print data.shape\n",
    "print train.shape\n",
    "print test.shape"
   ]
  },
  {
   "cell_type": "code",
   "execution_count": 22,
   "metadata": {
    "collapsed": false
   },
   "outputs": [
    {
     "data": {
      "text/plain": [
       "<matplotlib.axes._subplots.AxesSubplot at 0x1117920d0>"
      ]
     },
     "execution_count": 22,
     "metadata": {},
     "output_type": "execute_result"
    },
    {
     "data": {
      "image/png": "[encoded data removed]",
      "text/plain": [
       "<matplotlib.figure.Figure at 0x117702210>"
      ]
     },
     "metadata": {},
     "output_type": "display_data"
    }
   ],
   "source": [
    "pd.tools.plotting.autocorrelation_plot(train)\n"
   ]
  },
  {
   "cell_type": "code",
   "execution_count": 23,
   "metadata": {
    "collapsed": true
   },
   "outputs": [],
   "source": [
    "from statsmodels.graphics.tsaplots import plot_acf, plot_pacf\n"
   ]
  },
  {
   "cell_type": "code",
   "execution_count": 24,
   "metadata": {
    "collapsed": false
   },
   "outputs": [
    {
     "name": "stdout",
     "output_type": "stream",
     "text": [
      "Figure(432x288)\n"
     ]
    },
    {
     "data": {
      "image/png": "[encoded data removed]",
      "text/plain": [
       "<matplotlib.figure.Figure at 0x117832ed0>"
      ]
     },
     "metadata": {},
     "output_type": "display_data"
    }
   ],
   "source": [
    "print plot_acf(train, lags=8)\n",
    "#Helps determine 'q'"
   ]
  },
  {
   "cell_type": "code",
   "execution_count": 25,
   "metadata": {
    "collapsed": false
   },
   "outputs": [
    {
     "name": "stdout",
     "output_type": "stream",
     "text": [
      "Figure(432x288)\n"
     ]
    },
    {
     "data": {
      "image/png": "[encoded data removed]",
      "text/plain": [
       "<matplotlib.figure.Figure at 0x117689490>"
      ]
     },
     "metadata": {},
     "output_type": "display_data"
    }
   ],
   "source": [
    "print plot_pacf(train, lags=8)\n",
    "#helps determine 'p'"
   ]
  },
  {
   "cell_type": "code",
   "execution_count": 57,
   "metadata": {
    "collapsed": false
   },
   "outputs": [
    {
     "name": "stderr",
     "output_type": "stream",
     "text": [
      "/Users/michaelbecker/anaconda2/lib/python2.7/site-packages/statsmodels/base/model.py:466: ConvergenceWarning: Maximum Likelihood optimization failed to converge. Check mle_retvals\n",
      "  \"Check mle_retvals\", ConvergenceWarning)\n"
     ]
    }
   ],
   "source": [
    "from statsmodels.tsa.arima_model import ARIMA\n",
    "\n",
    "model = ARIMA(train, (2, 0, 3)).fit()\n",
    "#us_west_2a order = 4,0,2 "
   ]
  },
  {
   "cell_type": "code",
   "execution_count": 58,
   "metadata": {
    "collapsed": false
   },
   "outputs": [
    {
     "name": "stdout",
     "output_type": "stream",
     "text": [
      "                              ARMA Model Results                              \n",
      "==============================================================================\n",
      "Dep. Variable:                  price   No. Observations:                  159\n",
      "Model:                     ARMA(2, 3)   Log Likelihood                 231.868\n",
      "Method:                       css-mle   S.D. of innovations              0.056\n",
      "Date:                Thu, 04 May 2017   AIC                           -449.735\n",
      "Time:                        11:04:07   BIC                           -428.253\n",
      "Sample:                    11-17-2013   HQIC                          -441.011\n",
      "                         - 11-27-2016                                         \n",
      "===============================================================================\n",
      "                  coef    std err          z      P>|z|      [95.0% Conf. Int.]\n",
      "-------------------------------------------------------------------------------\n",
      "const           0.1042      0.021      4.917      0.000         0.063     0.146\n",
      "ar.L1.price  3.074e-06      0.105   2.92e-05      1.000        -0.206     0.206\n",
      "ar.L2.price     0.8988      0.108      8.359      0.000         0.688     1.110\n",
      "ma.L1.price     0.6142      0.157      3.912      0.000         0.306     0.922\n",
      "ma.L2.price    -0.7555      0.116     -6.519      0.000        -0.983    -0.528\n",
      "ma.L3.price    -0.3831      0.128     -2.992      0.003        -0.634    -0.132\n",
      "                                    Roots                                    \n",
      "=============================================================================\n",
      "                 Real           Imaginary           Modulus         Frequency\n",
      "-----------------------------------------------------------------------------\n",
      "AR.1            1.0548           +0.0000j            1.0548            0.0000\n",
      "AR.2           -1.0548           +0.0000j            1.0548            0.5000\n",
      "MA.1            1.1954           +0.0000j            1.1954            0.0000\n",
      "MA.2           -1.0139           +0.0000j            1.0139            0.5000\n",
      "MA.3           -2.1534           +0.0000j            2.1534            0.5000\n",
      "-----------------------------------------------------------------------------\n"
     ]
    }
   ],
   "source": [
    "print model.summary()"
   ]
  },
  {
   "cell_type": "code",
   "execution_count": 59,
   "metadata": {
    "collapsed": false
   },
   "outputs": [
    {
     "name": "stdout",
     "output_type": "stream",
     "text": [
      "Figure(432x288)\n"
     ]
    },
    {
     "data": {
      "image/png": "[encoded data removed]",
      "text/plain": [
       "<matplotlib.figure.Figure at 0x117db67d0>"
      ]
     },
     "metadata": {},
     "output_type": "display_data"
    }
   ],
   "source": [
    "\n",
    "figure = model.plot_predict(1, 170)\n",
    "print figure"
   ]
  },
  {
   "cell_type": "code",
   "execution_count": 60,
   "metadata": {
    "collapsed": false
   },
   "outputs": [
    {
     "data": {
      "image/png": "[encoded data removed]",
      "text/plain": [
       "<matplotlib.figure.Figure at 0x1181bd350>"
      ]
     },
     "metadata": {},
     "output_type": "display_data"
    },
    {
     "data": {
      "image/png": "[encoded data removed]",
      "text/plain": [
       "<matplotlib.figure.Figure at 0x117edbe10>"
      ]
     },
     "metadata": {},
     "output_type": "display_data"
    },
    {
     "name": "stdout",
     "output_type": "stream",
     "text": [
      "count    159.000000\n",
      "mean      -0.001946\n",
      "std        0.056702\n",
      "min       -0.192274\n",
      "25%       -0.016047\n",
      "50%       -0.008498\n",
      "75%        0.000241\n",
      "max        0.466343\n",
      "dtype: float64\n"
     ]
    }
   ],
   "source": [
    "residuals = model.resid\n",
    "residuals.plot()\n",
    "plt.show()\n",
    "residuals.plot(kind='kde')\n",
    "plt.show()\n",
    "print(residuals.describe())"
   ]
  },
  {
   "cell_type": "code",
   "execution_count": 61,
   "metadata": {
    "collapsed": false
   },
   "outputs": [
    {
     "name": "stdout",
     "output_type": "stream",
     "text": [
      "Figure(432x288)\n",
      "Figure(432x288)\n"
     ]
    },
    {
     "data": {
      "image/png": "[encoded data removed]",
      "text/plain": [
       "<matplotlib.figure.Figure at 0x117eae050>"
      ]
     },
     "metadata": {},
     "output_type": "display_data"
    },
    {
     "data": {
      "image/png": "[encoded data removed]",
      "text/plain": [
       "<matplotlib.figure.Figure at 0x1176795d0>"
      ]
     },
     "metadata": {},
     "output_type": "display_data"
    }
   ],
   "source": [
    "\n",
    "print plot_acf(model.resid, lags=28)\n",
    "#Decays to zero and hugs the line, suggesting residuals are not correlated\n",
    "print plot_pacf(model.resid, lags=28)"
   ]
  },
  {
   "cell_type": "code",
   "execution_count": 39,
   "metadata": {
    "collapsed": true
   },
   "outputs": [],
   "source": [
    "from sklearn.metrics import mean_squared_error\n",
    "from sklearn.metrics import mean_absolute_error\n",
    "2,0,4"
   ]
  },
  {
   "cell_type": "code",
   "execution_count": 62,
   "metadata": {
    "collapsed": false
   },
   "outputs": [
    {
     "name": "stderr",
     "output_type": "stream",
     "text": [
      "/Users/michaelbecker/anaconda2/lib/python2.7/site-packages/statsmodels/base/model.py:466: ConvergenceWarning: Maximum Likelihood optimization failed to converge. Check mle_retvals\n",
      "  \"Check mle_retvals\", ConvergenceWarning)\n"
     ]
    },
    {
     "name": "stdout",
     "output_type": "stream",
     "text": [
      "predicted=0.138970, expected=0.168500\n"
     ]
    },
    {
     "name": "stderr",
     "output_type": "stream",
     "text": [
      "/Users/michaelbecker/anaconda2/lib/python2.7/site-packages/statsmodels/base/model.py:466: ConvergenceWarning: Maximum Likelihood optimization failed to converge. Check mle_retvals\n",
      "  \"Check mle_retvals\", ConvergenceWarning)\n"
     ]
    },
    {
     "name": "stdout",
     "output_type": "stream",
     "text": [
      "predicted=0.138114, expected=0.078000\n"
     ]
    },
    {
     "name": "stderr",
     "output_type": "stream",
     "text": [
      "/Users/michaelbecker/anaconda2/lib/python2.7/site-packages/statsmodels/base/model.py:466: ConvergenceWarning: Maximum Likelihood optimization failed to converge. Check mle_retvals\n",
      "  \"Check mle_retvals\", ConvergenceWarning)\n"
     ]
    },
    {
     "name": "stdout",
     "output_type": "stream",
     "text": [
      "predicted=0.088791, expected=0.078900\n"
     ]
    },
    {
     "name": "stderr",
     "output_type": "stream",
     "text": [
      "/Users/michaelbecker/anaconda2/lib/python2.7/site-packages/statsmodels/base/model.py:466: ConvergenceWarning: Maximum Likelihood optimization failed to converge. Check mle_retvals\n",
      "  \"Check mle_retvals\", ConvergenceWarning)\n"
     ]
    },
    {
     "name": "stdout",
     "output_type": "stream",
     "text": [
      "predicted=0.107637, expected=0.078900\n"
     ]
    },
    {
     "name": "stderr",
     "output_type": "stream",
     "text": [
      "/Users/michaelbecker/anaconda2/lib/python2.7/site-packages/statsmodels/base/model.py:466: ConvergenceWarning: Maximum Likelihood optimization failed to converge. Check mle_retvals\n",
      "  \"Check mle_retvals\", ConvergenceWarning)\n"
     ]
    },
    {
     "name": "stdout",
     "output_type": "stream",
     "text": [
      "predicted=0.093746, expected=0.078900\n"
     ]
    },
    {
     "name": "stderr",
     "output_type": "stream",
     "text": [
      "/Users/michaelbecker/anaconda2/lib/python2.7/site-packages/statsmodels/base/model.py:466: ConvergenceWarning: Maximum Likelihood optimization failed to converge. Check mle_retvals\n",
      "  \"Check mle_retvals\", ConvergenceWarning)\n"
     ]
    },
    {
     "name": "stdout",
     "output_type": "stream",
     "text": [
      "predicted=0.097322, expected=0.092800\n"
     ]
    },
    {
     "name": "stderr",
     "output_type": "stream",
     "text": [
      "/Users/michaelbecker/anaconda2/lib/python2.7/site-packages/statsmodels/base/model.py:466: ConvergenceWarning: Maximum Likelihood optimization failed to converge. Check mle_retvals\n",
      "  \"Check mle_retvals\", ConvergenceWarning)\n"
     ]
    },
    {
     "name": "stdout",
     "output_type": "stream",
     "text": [
      "predicted=0.100851, expected=0.087300\n"
     ]
    },
    {
     "name": "stderr",
     "output_type": "stream",
     "text": [
      "/Users/michaelbecker/anaconda2/lib/python2.7/site-packages/statsmodels/base/model.py:466: ConvergenceWarning: Maximum Likelihood optimization failed to converge. Check mle_retvals\n",
      "  \"Check mle_retvals\", ConvergenceWarning)\n"
     ]
    },
    {
     "name": "stdout",
     "output_type": "stream",
     "text": [
      "predicted=0.094835, expected=0.088900\n"
     ]
    },
    {
     "name": "stderr",
     "output_type": "stream",
     "text": [
      "/Users/michaelbecker/anaconda2/lib/python2.7/site-packages/statsmodels/base/model.py:466: ConvergenceWarning: Maximum Likelihood optimization failed to converge. Check mle_retvals\n",
      "  \"Check mle_retvals\", ConvergenceWarning)\n"
     ]
    },
    {
     "name": "stdout",
     "output_type": "stream",
     "text": [
      "predicted=0.097078, expected=0.088900\n"
     ]
    },
    {
     "name": "stderr",
     "output_type": "stream",
     "text": [
      "/Users/michaelbecker/anaconda2/lib/python2.7/site-packages/statsmodels/base/model.py:466: ConvergenceWarning: Maximum Likelihood optimization failed to converge. Check mle_retvals\n",
      "  \"Check mle_retvals\", ConvergenceWarning)\n"
     ]
    },
    {
     "name": "stdout",
     "output_type": "stream",
     "text": [
      "predicted=0.094484, expected=0.088800\n",
      "predicted=0.094866, expected=0.087100\n",
      "Test MSE: 0.001\n",
      "Test RMSE: 0.023\n",
      "Test MAE: 0.017\n"
     ]
    },
    {
     "name": "stderr",
     "output_type": "stream",
     "text": [
      "/Users/michaelbecker/anaconda2/lib/python2.7/site-packages/statsmodels/base/model.py:466: ConvergenceWarning: Maximum Likelihood optimization failed to converge. Check mle_retvals\n",
      "  \"Check mle_retvals\", ConvergenceWarning)\n"
     ]
    }
   ],
   "source": [
    "history = [x for x in train] #takes train and builds a model, then appends the 'obs' to roll history onwards\n",
    "predictions = list()\n",
    "for t in range(len(test)):\n",
    "    model = ARIMA(history, order=(2,0,3)) #model is called with params of above\n",
    "    model_fit = model.fit(disp=0) #model is fit just as above\n",
    "    output = model_fit.forecast()\n",
    "    yhat = output[0]\n",
    "    predictions.append(yhat)\n",
    "    obs = test[t]\n",
    "    history.append(obs)\n",
    "    print('predicted=%f, expected=%f' % (yhat, obs))\n",
    "error = mean_squared_error(test, predictions)\n",
    "error1 = mean_absolute_error(test, predictions)\n",
    "print('Test MSE: %.3f' % error)\n",
    "print('Test RMSE: %.3f' % error**(0.5))\n",
    "print('Test MAE: %.3f' % error1)"
   ]
  },
  {
   "cell_type": "code",
   "execution_count": 50,
   "metadata": {
    "collapsed": false
   },
   "outputs": [
    {
     "data": {
      "image/png": "[encoded data removed]",
      "text/plain": [
       "<matplotlib.figure.Figure at 0x1181bdad0>"
      ]
     },
     "metadata": {},
     "output_type": "display_data"
    }
   ],
   "source": [
    "plt.plot(list(test))\n",
    "plt.plot(predictions, color='red')\n",
    "plt.show()"
   ]
  },
  {
   "cell_type": "code",
   "execution_count": null,
   "metadata": {
    "collapsed": true
   },
   "outputs": [],
   "source": []
  }
 ],
 "metadata": {
  "kernelspec": {
   "display_name": "Python 2",
   "language": "python",
   "name": "python2"
  },
  "language_info": {
   "codemirror_mode": {
    "name": "ipython",
    "version": 2
   },
   "file_extension": ".py",
   "mimetype": "text/x-python",
   "name": "python",
   "nbconvert_exporter": "python",
   "pygments_lexer": "ipython2",
   "version": "2.7.13"
  }
 },
 "nbformat": 4,
 "nbformat_minor": 2
}
